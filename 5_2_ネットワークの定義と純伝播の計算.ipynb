{
  "nbformat": 4,
  "nbformat_minor": 0,
  "metadata": {
    "colab": {
      "name": "5-2. ネットワークの定義と純伝播の計算.ipynb",
      "provenance": [],
      "authorship_tag": "ABX9TyMPX4CjmZMkXXPw1toeM1qm",
      "include_colab_link": true
    },
    "kernelspec": {
      "name": "python3",
      "display_name": "Python 3"
    }
  },
  "cells": [
    {
      "cell_type": "markdown",
      "metadata": {
        "id": "view-in-github",
        "colab_type": "text"
      },
      "source": [
        "<a href=\"https://colab.research.google.com/github/hikaruyaku/KIKAGAKU-/blob/master/5_2_%E3%83%8D%E3%83%83%E3%83%88%E3%83%AF%E3%83%BC%E3%82%AF%E3%81%AE%E5%AE%9A%E7%BE%A9%E3%81%A8%E7%B4%94%E4%BC%9D%E6%92%AD%E3%81%AE%E8%A8%88%E7%AE%97.ipynb\" target=\"_parent\"><img src=\"https://colab.research.google.com/assets/colab-badge.svg\" alt=\"Open In Colab\"/></a>"
      ]
    },
    {
      "cell_type": "markdown",
      "metadata": {
        "id": "4Jc0pu5SOdvH"
      },
      "source": [
        "## ネットワークの定義と純伝播の計算\r\n",
        "\r\n",
        "### 1. 環境構築"
      ]
    },
    {
      "cell_type": "code",
      "metadata": {
        "id": "4t9fXh35OQqO"
      },
      "source": [
        "import torch"
      ],
      "execution_count": 1,
      "outputs": []
    },
    {
      "cell_type": "code",
      "metadata": {
        "colab": {
          "base_uri": "https://localhost:8080/",
          "height": 35
        },
        "id": "BABxOjEjPDay",
        "outputId": "7b41d532-c454-4140-b15e-f73a16cfefe8"
      },
      "source": [
        "torch.__version__"
      ],
      "execution_count": 2,
      "outputs": [
        {
          "output_type": "execute_result",
          "data": {
            "application/vnd.google.colaboratory.intrinsic+json": {
              "type": "string"
            },
            "text/plain": [
              "'1.7.0+cu101'"
            ]
          },
          "metadata": {
            "tags": []
          },
          "execution_count": 2
        }
      ]
    },
    {
      "cell_type": "code",
      "metadata": {
        "colab": {
          "base_uri": "https://localhost:8080/"
        },
        "id": "bGxw948zPHhd",
        "outputId": "596b5dff-6988-47e7-8722-751b92b84fd2"
      },
      "source": [
        "#!pip install torch==1.7.0+cu101"
      ],
      "execution_count": 3,
      "outputs": [
        {
          "output_type": "stream",
          "text": [
            "Requirement already satisfied: torch==1.7.0+cu101 in /usr/local/lib/python3.6/dist-packages (1.7.0+cu101)\n",
            "Requirement already satisfied: numpy in /usr/local/lib/python3.6/dist-packages (from torch==1.7.0+cu101) (1.19.4)\n",
            "Requirement already satisfied: dataclasses in /usr/local/lib/python3.6/dist-packages (from torch==1.7.0+cu101) (0.8)\n",
            "Requirement already satisfied: typing-extensions in /usr/local/lib/python3.6/dist-packages (from torch==1.7.0+cu101) (3.7.4.3)\n",
            "Requirement already satisfied: future in /usr/local/lib/python3.6/dist-packages (from torch==1.7.0+cu101) (0.16.0)\n"
          ],
          "name": "stdout"
        }
      ]
    },
    {
      "cell_type": "markdown",
      "metadata": {
        "id": "X5KaRWImPTer"
      },
      "source": [
        "### 2. ネットワークの定義"
      ]
    },
    {
      "cell_type": "code",
      "metadata": {
        "id": "hRbeFwHCPNXu"
      },
      "source": [
        "import torch.nn as nn"
      ],
      "execution_count": 4,
      "outputs": []
    },
    {
      "cell_type": "code",
      "metadata": {
        "colab": {
          "base_uri": "https://localhost:8080/"
        },
        "id": "eryHtOHMPcfm",
        "outputId": "65b43f91-e17a-4eac-ac86-50ae1b249a7f"
      },
      "source": [
        "# 3 ノード → 2 ノードの全結合層\r\n",
        "fc = nn.Linear(3,2)\r\n",
        "fc"
      ],
      "execution_count": 6,
      "outputs": [
        {
          "output_type": "execute_result",
          "data": {
            "text/plain": [
              "Linear(in_features=3, out_features=2, bias=True)"
            ]
          },
          "metadata": {
            "tags": []
          },
          "execution_count": 6
        }
      ]
    },
    {
      "cell_type": "code",
      "metadata": {
        "colab": {
          "base_uri": "https://localhost:8080/"
        },
        "id": "CBkKyirwPlAo",
        "outputId": "0bbccce7-d5fd-4f69-b46f-ee412b9a87b8"
      },
      "source": [
        "# 重み\r\n",
        "fc.weight"
      ],
      "execution_count": 8,
      "outputs": [
        {
          "output_type": "execute_result",
          "data": {
            "text/plain": [
              "Parameter containing:\n",
              "tensor([[ 0.0496, -0.5679, -0.2258],\n",
              "        [ 0.3022,  0.4305,  0.1337]], requires_grad=True)"
            ]
          },
          "metadata": {
            "tags": []
          },
          "execution_count": 8
        }
      ]
    },
    {
      "cell_type": "code",
      "metadata": {
        "colab": {
          "base_uri": "https://localhost:8080/"
        },
        "id": "G899xWjnPsN8",
        "outputId": "293b7b19-8568-4fd0-eaa1-3dcfab5fceec"
      },
      "source": [
        "# バイアス\r\n",
        "fc.bias"
      ],
      "execution_count": 9,
      "outputs": [
        {
          "output_type": "execute_result",
          "data": {
            "text/plain": [
              "Parameter containing:\n",
              "tensor([0.1166, 0.0059], requires_grad=True)"
            ]
          },
          "metadata": {
            "tags": []
          },
          "execution_count": 9
        }
      ]
    },
    {
      "cell_type": "code",
      "metadata": {
        "colab": {
          "base_uri": "https://localhost:8080/"
        },
        "id": "s-bgGrMQP1mk",
        "outputId": "b115dfdf-ff75-419e-8f6e-58687e9ba327"
      },
      "source": [
        "# 乱数のシードを固定\r\n",
        "torch.manual_seed(0)"
      ],
      "execution_count": 10,
      "outputs": [
        {
          "output_type": "execute_result",
          "data": {
            "text/plain": [
              "<torch._C.Generator at 0x7f27b4892b58>"
            ]
          },
          "metadata": {
            "tags": []
          },
          "execution_count": 10
        }
      ]
    },
    {
      "cell_type": "code",
      "metadata": {
        "id": "hFHM2BetQHw8"
      },
      "source": [
        "fc = nn.Linear(3,2)"
      ],
      "execution_count": 11,
      "outputs": []
    },
    {
      "cell_type": "code",
      "metadata": {
        "colab": {
          "base_uri": "https://localhost:8080/"
        },
        "id": "C-0zSRX_QKRL",
        "outputId": "8c889a3f-b83f-45b9-f314-c96777a58fdf"
      },
      "source": [
        "fc.weight"
      ],
      "execution_count": 12,
      "outputs": [
        {
          "output_type": "execute_result",
          "data": {
            "text/plain": [
              "Parameter containing:\n",
              "tensor([[-0.0043,  0.3097, -0.4752],\n",
              "        [-0.4249, -0.2224,  0.1548]], requires_grad=True)"
            ]
          },
          "metadata": {
            "tags": []
          },
          "execution_count": 12
        }
      ]
    },
    {
      "cell_type": "code",
      "metadata": {
        "colab": {
          "base_uri": "https://localhost:8080/"
        },
        "id": "bpmE9ipeQLTH",
        "outputId": "2f6af944-0582-474d-c1aa-a0b088728eec"
      },
      "source": [
        "fc.bias"
      ],
      "execution_count": 13,
      "outputs": [
        {
          "output_type": "execute_result",
          "data": {
            "text/plain": [
              "Parameter containing:\n",
              "tensor([-0.0114,  0.4578], requires_grad=True)"
            ]
          },
          "metadata": {
            "tags": []
          },
          "execution_count": 13
        }
      ]
    },
    {
      "cell_type": "markdown",
      "metadata": {
        "id": "p7JSNYzcQR6v"
      },
      "source": [
        "### 3. 線形変換"
      ]
    },
    {
      "cell_type": "code",
      "metadata": {
        "colab": {
          "base_uri": "https://localhost:8080/"
        },
        "id": "EX3Lw1MsQMPR",
        "outputId": "b6ab0a8f-cf22-428d-cea6-56c8b2f1737e"
      },
      "source": [
        "fc"
      ],
      "execution_count": 14,
      "outputs": [
        {
          "output_type": "execute_result",
          "data": {
            "text/plain": [
              "Linear(in_features=3, out_features=2, bias=True)"
            ]
          },
          "metadata": {
            "tags": []
          },
          "execution_count": 14
        }
      ]
    },
    {
      "cell_type": "code",
      "metadata": {
        "colab": {
          "base_uri": "https://localhost:8080/"
        },
        "id": "zMtoGE2VQXDi",
        "outputId": "293754c2-aa47-48d7-dc6e-d65d9a27157d"
      },
      "source": [
        "x = torch.Tensor([1.,2.,3.])\r\n",
        "x"
      ],
      "execution_count": 18,
      "outputs": [
        {
          "output_type": "execute_result",
          "data": {
            "text/plain": [
              "tensor([1., 2., 3.])"
            ]
          },
          "metadata": {
            "tags": []
          },
          "execution_count": 18
        }
      ]
    },
    {
      "cell_type": "code",
      "metadata": {
        "colab": {
          "base_uri": "https://localhost:8080/"
        },
        "id": "0gRjofB9Qa46",
        "outputId": "7276aba9-f4f3-4a1d-ba16-cab15f2a78c5"
      },
      "source": [
        "type(x)"
      ],
      "execution_count": 19,
      "outputs": [
        {
          "output_type": "execute_result",
          "data": {
            "text/plain": [
              "torch.Tensor"
            ]
          },
          "metadata": {
            "tags": []
          },
          "execution_count": 19
        }
      ]
    },
    {
      "cell_type": "code",
      "metadata": {
        "colab": {
          "base_uri": "https://localhost:8080/"
        },
        "id": "7YoeRS2eQeTP",
        "outputId": "2eb4daf4-290a-46fa-bcce-17a181b65e74"
      },
      "source": [
        "x.dtype"
      ],
      "execution_count": 20,
      "outputs": [
        {
          "output_type": "execute_result",
          "data": {
            "text/plain": [
              "torch.float32"
            ]
          },
          "metadata": {
            "tags": []
          },
          "execution_count": 20
        }
      ]
    },
    {
      "cell_type": "code",
      "metadata": {
        "colab": {
          "base_uri": "https://localhost:8080/"
        },
        "id": "jyr_jvgWQgT8",
        "outputId": "7064eb65-04cf-450e-dace-57db0c6d62e0"
      },
      "source": [
        "# 線形変換\r\n",
        "#fc.__call__(x)\r\n",
        "u = fc(x)\r\n",
        "u"
      ],
      "execution_count": 23,
      "outputs": [
        {
          "output_type": "execute_result",
          "data": {
            "text/plain": [
              "tensor([-0.8219,  0.0526], grad_fn=<AddBackward0>)"
            ]
          },
          "metadata": {
            "tags": []
          },
          "execution_count": 23
        }
      ]
    },
    {
      "cell_type": "markdown",
      "metadata": {
        "id": "m-oPLzYAQ1nv"
      },
      "source": [
        "### 4.非線形変換"
      ]
    },
    {
      "cell_type": "code",
      "metadata": {
        "id": "10joWDk4QwAf"
      },
      "source": [
        "import torch.nn.functional as F"
      ],
      "execution_count": 24,
      "outputs": []
    },
    {
      "cell_type": "code",
      "metadata": {
        "colab": {
          "base_uri": "https://localhost:8080/"
        },
        "id": "EBeHkc22Q-cb",
        "outputId": "ee67eaa0-eb77-4a1e-ff61-e508445fc0d6"
      },
      "source": [
        "h = F.relu(u)\r\n",
        "h"
      ],
      "execution_count": 26,
      "outputs": [
        {
          "output_type": "execute_result",
          "data": {
            "text/plain": [
              "tensor([0.0000, 0.0526], grad_fn=<ReluBackward0>)"
            ]
          },
          "metadata": {
            "tags": []
          },
          "execution_count": 26
        }
      ]
    },
    {
      "cell_type": "markdown",
      "metadata": {
        "id": "8xTLhM46RGqN"
      },
      "source": [
        "### 5. 目的関数\r\n",
        "\r\n",
        "目的関数 = 損失関数 + 正則化項"
      ]
    },
    {
      "cell_type": "code",
      "metadata": {
        "id": "yZrJ_aZ3RBNF"
      },
      "source": [
        "# 目標値\r\n",
        "t = torch.Tensor([[1],[3]])"
      ],
      "execution_count": 27,
      "outputs": []
    },
    {
      "cell_type": "code",
      "metadata": {
        "id": "RKBjlGFXRduI"
      },
      "source": [
        "# 予測値\r\n",
        "y = torch.Tensor([[2],[4]])"
      ],
      "execution_count": 28,
      "outputs": []
    },
    {
      "cell_type": "code",
      "metadata": {
        "colab": {
          "base_uri": "https://localhost:8080/"
        },
        "id": "odhbdUanRikv",
        "outputId": "9598bd33-2990-4c7f-cf17-1f5218c1f8b6"
      },
      "source": [
        "# 平均二乗誤差\r\n",
        "F.mse_loss(y,t)"
      ],
      "execution_count": 29,
      "outputs": [
        {
          "output_type": "execute_result",
          "data": {
            "text/plain": [
              "tensor(1.)"
            ]
          },
          "metadata": {
            "tags": []
          },
          "execution_count": 29
        }
      ]
    },
    {
      "cell_type": "markdown",
      "metadata": {
        "id": "sUwNvDucRuM9"
      },
      "source": [
        "### 6. nn と F の使い分け\r\n",
        "\r\n",
        "- `nn`: `torch.nn` → パラメータを持つ\r\n",
        "- `F` : `torch.nn.function`　→ パラメータを持たない"
      ]
    },
    {
      "cell_type": "markdown",
      "metadata": {
        "id": "cJLTer94SJvU"
      },
      "source": [
        "### テスト問題"
      ]
    },
    {
      "cell_type": "code",
      "metadata": {
        "id": "FMUZnhE2RmsR"
      },
      "source": [
        "# Q1\r\n",
        "# 乱数のシード指定\r\n",
        "torch.manual_seed(0)\r\n",
        "\r\n",
        "# 各関数のインスタンス化\r\n",
        "fc1 = nn.Linear(3,2)\r\n",
        "fc2 = nn.Linear(2,1)\r\n",
        "h = F.relu(u)\r\n",
        "\r\n",
        "# x のインスタンス化\r\n",
        "x = torch.Tensor([1,2,3])"
      ],
      "execution_count": 44,
      "outputs": []
    },
    {
      "cell_type": "code",
      "metadata": {
        "colab": {
          "base_uri": "https://localhost:8080/"
        },
        "id": "FoVKN_e6TIeX",
        "outputId": "3edb0372-a326-4f3c-c664-295569efccc8"
      },
      "source": [
        "u = fc1(x)\r\n",
        "u"
      ],
      "execution_count": 45,
      "outputs": [
        {
          "output_type": "execute_result",
          "data": {
            "text/plain": [
              "tensor([-0.8219,  0.0526], grad_fn=<AddBackward0>)"
            ]
          },
          "metadata": {
            "tags": []
          },
          "execution_count": 45
        }
      ]
    },
    {
      "cell_type": "code",
      "metadata": {
        "colab": {
          "base_uri": "https://localhost:8080/"
        },
        "id": "zBn2eQAkTc95",
        "outputId": "69604ad2-6f87-4ce2-88cd-e467ea865e6a"
      },
      "source": [
        "h = F.relu(u)\r\n",
        "h"
      ],
      "execution_count": 46,
      "outputs": [
        {
          "output_type": "execute_result",
          "data": {
            "text/plain": [
              "tensor([0.0000, 0.0526], grad_fn=<ReluBackward0>)"
            ]
          },
          "metadata": {
            "tags": []
          },
          "execution_count": 46
        }
      ]
    },
    {
      "cell_type": "code",
      "metadata": {
        "colab": {
          "base_uri": "https://localhost:8080/"
        },
        "id": "GD4a6k5vTgUT",
        "outputId": "28c1f523-d5ed-4d00-f527-32e48bdd9435"
      },
      "source": [
        "t = fc2(h)\r\n",
        "t"
      ],
      "execution_count": 47,
      "outputs": [
        {
          "output_type": "execute_result",
          "data": {
            "text/plain": [
              "tensor([-0.2039], grad_fn=<AddBackward0>)"
            ]
          },
          "metadata": {
            "tags": []
          },
          "execution_count": 47
        }
      ]
    },
    {
      "cell_type": "code",
      "metadata": {
        "colab": {
          "base_uri": "https://localhost:8080/"
        },
        "id": "pNj0QSjkTldl",
        "outputId": "beaad9e7-6388-4c97-f67b-accbe3c56470"
      },
      "source": [
        "# q2\r\n",
        "# 目標値の定義\r\n",
        "y = torch.Tensor([1])\r\n",
        "\r\n",
        "# 平均二乗誤差の算出\r\n",
        "F.mse_loss(y,t)"
      ],
      "execution_count": 48,
      "outputs": [
        {
          "output_type": "execute_result",
          "data": {
            "text/plain": [
              "tensor(1.4493, grad_fn=<MseLossBackward>)"
            ]
          },
          "metadata": {
            "tags": []
          },
          "execution_count": 48
        }
      ]
    },
    {
      "cell_type": "code",
      "metadata": {
        "id": "X6yyXHIJT1Cn"
      },
      "source": [
        ""
      ],
      "execution_count": null,
      "outputs": []
    }
  ]
}