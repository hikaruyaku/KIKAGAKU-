{
  "nbformat": 4,
  "nbformat_minor": 0,
  "metadata": {
    "colab": {
      "name": "ニューラルネットワークの実装(基礎).ipynb",
      "provenance": [],
      "collapsed_sections": [],
      "authorship_tag": "ABX9TyNY/QgDk25axhmN1yX9tq1z",
      "include_colab_link": true
    },
    "kernelspec": {
      "name": "python3",
      "display_name": "Python 3"
    }
  },
  "cells": [
    {
      "cell_type": "markdown",
      "metadata": {
        "id": "view-in-github",
        "colab_type": "text"
      },
      "source": [
        "<a href=\"https://colab.research.google.com/github/hikaruyaku/KIKAGAKU-/blob/master/%E3%83%8B%E3%83%A5%E3%83%BC%E3%83%A9%E3%83%AB%E3%83%8D%E3%83%83%E3%83%88%E3%83%AF%E3%83%BC%E3%82%AF%E3%81%AE%E5%AE%9F%E8%A3%85(%E5%9F%BA%E7%A4%8E).ipynb\" target=\"_parent\"><img src=\"https://colab.research.google.com/assets/colab-badge.svg\" alt=\"Open In Colab\"/></a>"
      ]
    },
    {
      "cell_type": "markdown",
      "metadata": {
        "id": "r8d7hIiIrAlX",
        "colab_type": "text"
      },
      "source": [
        "## データセットの準備"
      ]
    },
    {
      "cell_type": "code",
      "metadata": {
        "id": "rtocxdr6sGfr",
        "colab_type": "code",
        "colab": {}
      },
      "source": [
        "from sklearn.datasets import load_iris\n",
        "\n",
        "# Iris データセットの読み込み\n",
        "x, t = load_iris(return_X_y = True)"
      ],
      "execution_count": 0,
      "outputs": []
    },
    {
      "cell_type": "code",
      "metadata": {
        "id": "CraOr575s8Q8",
        "colab_type": "code",
        "colab": {
          "base_uri": "https://localhost:8080/",
          "height": 34
        },
        "outputId": "76f28f53-71cd-44a2-b197-9eeafbf9aabe"
      },
      "source": [
        "# 形の確認\n",
        "x.shape, t.shape"
      ],
      "execution_count": 3,
      "outputs": [
        {
          "output_type": "execute_result",
          "data": {
            "text/plain": [
              "((150, 4), (150,))"
            ]
          },
          "metadata": {
            "tags": []
          },
          "execution_count": 3
        }
      ]
    },
    {
      "cell_type": "code",
      "metadata": {
        "id": "lwFuNoods_ff",
        "colab_type": "code",
        "colab": {
          "base_uri": "https://localhost:8080/",
          "height": 34
        },
        "outputId": "4d8ac022-b9a4-40e1-9dcd-f5c5d58fe3b4"
      },
      "source": [
        "# 型の確認\n",
        "type(x), type(t)"
      ],
      "execution_count": 4,
      "outputs": [
        {
          "output_type": "execute_result",
          "data": {
            "text/plain": [
              "(numpy.ndarray, numpy.ndarray)"
            ]
          },
          "metadata": {
            "tags": []
          },
          "execution_count": 4
        }
      ]
    },
    {
      "cell_type": "code",
      "metadata": {
        "id": "nemJ8s0YITA0",
        "colab_type": "code",
        "colab": {
          "base_uri": "https://localhost:8080/",
          "height": 34
        },
        "outputId": "549131d1-7f94-4f5a-954b-7aef1283d418"
      },
      "source": [
        "# データ型の確認\n",
        "x.dtype, t.dtype"
      ],
      "execution_count": 5,
      "outputs": [
        {
          "output_type": "execute_result",
          "data": {
            "text/plain": [
              "(dtype('float64'), dtype('int64'))"
            ]
          },
          "metadata": {
            "tags": []
          },
          "execution_count": 5
        }
      ]
    },
    {
      "cell_type": "code",
      "metadata": {
        "id": "7vw-D5_zIZPe",
        "colab_type": "code",
        "colab": {
          "base_uri": "https://localhost:8080/",
          "height": 106
        },
        "outputId": "81de1d67-a177-4380-9539-7abafb2727f9"
      },
      "source": [
        "!pip install torch torchvision"
      ],
      "execution_count": 6,
      "outputs": [
        {
          "output_type": "stream",
          "text": [
            "Requirement already satisfied: torch in /usr/local/lib/python3.6/dist-packages (1.5.0+cu101)\n",
            "Requirement already satisfied: torchvision in /usr/local/lib/python3.6/dist-packages (0.6.0+cu101)\n",
            "Requirement already satisfied: future in /usr/local/lib/python3.6/dist-packages (from torch) (0.16.0)\n",
            "Requirement already satisfied: numpy in /usr/local/lib/python3.6/dist-packages (from torch) (1.18.3)\n",
            "Requirement already satisfied: pillow>=4.1.1 in /usr/local/lib/python3.6/dist-packages (from torchvision) (7.0.0)\n"
          ],
          "name": "stdout"
        }
      ]
    },
    {
      "cell_type": "code",
      "metadata": {
        "id": "0oLFa9KZl6xw",
        "colab_type": "code",
        "colab": {}
      },
      "source": [
        "import torch\n",
        "import torch.nn as nn\n",
        "import torch.nn.functional as F"
      ],
      "execution_count": 0,
      "outputs": []
    },
    {
      "cell_type": "code",
      "metadata": {
        "id": "Qy9hgHUdmJaF",
        "colab_type": "code",
        "colab": {}
      },
      "source": [
        "# データ型の変換\n",
        "x = torch.tensor(x, dtype=torch.float32)\n",
        "t = torch.tensor(t, dtype=torch.int64)"
      ],
      "execution_count": 0,
      "outputs": []
    },
    {
      "cell_type": "code",
      "metadata": {
        "id": "sFYBOA4YmYD5",
        "colab_type": "code",
        "colab": {
          "base_uri": "https://localhost:8080/",
          "height": 34
        },
        "outputId": "e319772c-d3b4-4d81-ef8d-e41791fec4d7"
      },
      "source": [
        "#型の確認\n",
        "type(x), type(t)"
      ],
      "execution_count": 9,
      "outputs": [
        {
          "output_type": "execute_result",
          "data": {
            "text/plain": [
              "(torch.Tensor, torch.Tensor)"
            ]
          },
          "metadata": {
            "tags": []
          },
          "execution_count": 9
        }
      ]
    },
    {
      "cell_type": "code",
      "metadata": {
        "id": "nqDSD5IVmc3F",
        "colab_type": "code",
        "colab": {
          "base_uri": "https://localhost:8080/",
          "height": 34
        },
        "outputId": "3515bc7b-c91e-46af-b879-44b978008716"
      },
      "source": [
        "#データ型の確認\n",
        "x.dtype, t.dtype"
      ],
      "execution_count": 10,
      "outputs": [
        {
          "output_type": "execute_result",
          "data": {
            "text/plain": [
              "(torch.float32, torch.int64)"
            ]
          },
          "metadata": {
            "tags": []
          },
          "execution_count": 10
        }
      ]
    },
    {
      "cell_type": "code",
      "metadata": {
        "id": "oXdfppuXminD",
        "colab_type": "code",
        "colab": {
          "base_uri": "https://localhost:8080/",
          "height": 34
        },
        "outputId": "cbf9840d-c86e-4494-898c-f20ebc94413f"
      },
      "source": [
        "#入力変数と目的変数をまとめて、ひとつのオブジェクト dataset に変換\n",
        "dataset = torch.utils.data.TensorDataset(x,t)\n",
        "dataset"
      ],
      "execution_count": 11,
      "outputs": [
        {
          "output_type": "execute_result",
          "data": {
            "text/plain": [
              "<torch.utils.data.dataset.TensorDataset at 0x7f236ab86710>"
            ]
          },
          "metadata": {
            "tags": []
          },
          "execution_count": 11
        }
      ]
    },
    {
      "cell_type": "code",
      "metadata": {
        "id": "fSAB8-hXmzDt",
        "colab_type": "code",
        "colab": {
          "base_uri": "https://localhost:8080/",
          "height": 34
        },
        "outputId": "1c468769-8c84-40a0-9851-41592135ea4d"
      },
      "source": [
        "#型の確認\n",
        "type(dataset)"
      ],
      "execution_count": 12,
      "outputs": [
        {
          "output_type": "execute_result",
          "data": {
            "text/plain": [
              "torch.utils.data.dataset.TensorDataset"
            ]
          },
          "metadata": {
            "tags": []
          },
          "execution_count": 12
        }
      ]
    },
    {
      "cell_type": "code",
      "metadata": {
        "id": "poqvntFTm6mt",
        "colab_type": "code",
        "colab": {
          "base_uri": "https://localhost:8080/",
          "height": 34
        },
        "outputId": "14f12d16-a248-4710-bf79-49d0f97127d0"
      },
      "source": [
        "# (入力値、目標値)のようにタプルで収納されている。\n",
        "dataset[0]"
      ],
      "execution_count": 13,
      "outputs": [
        {
          "output_type": "execute_result",
          "data": {
            "text/plain": [
              "(tensor([5.1000, 3.5000, 1.4000, 0.2000]), tensor(0))"
            ]
          },
          "metadata": {
            "tags": []
          },
          "execution_count": 13
        }
      ]
    },
    {
      "cell_type": "code",
      "metadata": {
        "id": "G7nbYQyKm_QN",
        "colab_type": "code",
        "colab": {
          "base_uri": "https://localhost:8080/",
          "height": 34
        },
        "outputId": "de181be6-2327-453e-c929-9a617ba5e12c"
      },
      "source": [
        "# 型の確認\n",
        "type(dataset[0])"
      ],
      "execution_count": 14,
      "outputs": [
        {
          "output_type": "execute_result",
          "data": {
            "text/plain": [
              "tuple"
            ]
          },
          "metadata": {
            "tags": []
          },
          "execution_count": 14
        }
      ]
    },
    {
      "cell_type": "code",
      "metadata": {
        "id": "JX7AumlRnHE1",
        "colab_type": "code",
        "colab": {
          "base_uri": "https://localhost:8080/",
          "height": 34
        },
        "outputId": "06619031-59af-497b-a84d-a97ac0da1043"
      },
      "source": [
        "# 1 サンプル目の入力値\n",
        "dataset[0][0]"
      ],
      "execution_count": 15,
      "outputs": [
        {
          "output_type": "execute_result",
          "data": {
            "text/plain": [
              "tensor([5.1000, 3.5000, 1.4000, 0.2000])"
            ]
          },
          "metadata": {
            "tags": []
          },
          "execution_count": 15
        }
      ]
    },
    {
      "cell_type": "code",
      "metadata": {
        "id": "JJiTOLjSnP5S",
        "colab_type": "code",
        "colab": {
          "base_uri": "https://localhost:8080/",
          "height": 34
        },
        "outputId": "715cc549-d39a-4859-97fa-92486e6c9bdc"
      },
      "source": [
        "# 1 サンプル目の目標値\n",
        "dataset[0][1]"
      ],
      "execution_count": 16,
      "outputs": [
        {
          "output_type": "execute_result",
          "data": {
            "text/plain": [
              "tensor(0)"
            ]
          },
          "metadata": {
            "tags": []
          },
          "execution_count": 16
        }
      ]
    },
    {
      "cell_type": "code",
      "metadata": {
        "id": "GRrb6-R5nUGf",
        "colab_type": "code",
        "colab": {
          "base_uri": "https://localhost:8080/",
          "height": 34
        },
        "outputId": "b7afef5b-f14e-476a-d9e2-f6a383d6168b"
      },
      "source": [
        "# サンプル数は len で取得可能\n",
        "len(dataset)"
      ],
      "execution_count": 17,
      "outputs": [
        {
          "output_type": "execute_result",
          "data": {
            "text/plain": [
              "150"
            ]
          },
          "metadata": {
            "tags": []
          },
          "execution_count": 17
        }
      ]
    },
    {
      "cell_type": "code",
      "metadata": {
        "id": "l8_rlYHwnlXP",
        "colab_type": "code",
        "colab": {}
      },
      "source": [
        "# 各データセットのサンプル数を決定\n",
        "# train : val ; test = 60% : 20% : 20%\n",
        "n_train = int(len(dataset) * 0.6)\n",
        "n_val = int(len(dataset) * 0.2)\n",
        "n_test = len(dataset) - n_train - n_val"
      ],
      "execution_count": 0,
      "outputs": []
    },
    {
      "cell_type": "code",
      "metadata": {
        "id": "0FLcjgjRn8Tw",
        "colab_type": "code",
        "colab": {
          "base_uri": "https://localhost:8080/",
          "height": 34
        },
        "outputId": "56794c27-dbd0-49e5-ec76-14ec1009f649"
      },
      "source": [
        "# それぞれのサンプル数を確認\n",
        "n_train, n_val, n_test"
      ],
      "execution_count": 19,
      "outputs": [
        {
          "output_type": "execute_result",
          "data": {
            "text/plain": [
              "(90, 30, 30)"
            ]
          },
          "metadata": {
            "tags": []
          },
          "execution_count": 19
        }
      ]
    },
    {
      "cell_type": "code",
      "metadata": {
        "id": "0DiCXHIaoCAf",
        "colab_type": "code",
        "colab": {}
      },
      "source": [
        "# ランダムに分割を行うため、シードを固定して再現性を確保\n",
        "torch.manual_seed(0)\n",
        "\n",
        "# データセットの分割\n",
        "train, val, test = torch.utils.data.random_split(dataset, [n_train, n_val, n_test])"
      ],
      "execution_count": 0,
      "outputs": []
    },
    {
      "cell_type": "code",
      "metadata": {
        "id": "Zsn3nQmooXiN",
        "colab_type": "code",
        "colab": {
          "base_uri": "https://localhost:8080/",
          "height": 34
        },
        "outputId": "04fa771d-5346-4706-87fc-16231dd26b3c"
      },
      "source": [
        "# サンプル数の確認\n",
        "len(train), len(val), len(test)"
      ],
      "execution_count": 21,
      "outputs": [
        {
          "output_type": "execute_result",
          "data": {
            "text/plain": [
              "(90, 30, 30)"
            ]
          },
          "metadata": {
            "tags": []
          },
          "execution_count": 21
        }
      ]
    },
    {
      "cell_type": "markdown",
      "metadata": {
        "id": "7Yxc2dE5rIVZ",
        "colab_type": "text"
      },
      "source": [
        "## ミニバッチ学習"
      ]
    },
    {
      "cell_type": "code",
      "metadata": {
        "id": "Ouq5783cobNf",
        "colab_type": "code",
        "colab": {}
      },
      "source": [
        "# バッチサイズ\n",
        "batch_size = 10"
      ],
      "execution_count": 0,
      "outputs": []
    },
    {
      "cell_type": "code",
      "metadata": {
        "id": "r3Ye45dyoiuX",
        "colab_type": "code",
        "colab": {}
      },
      "source": [
        "# shuffle はデフォルトで False のため、学習データのみ True に指定\n",
        "train_loader = torch.utils.data.DataLoader(train, batch_size, shuffle=True)\n",
        "val_loader = torch.utils.data.DataLoader(val, batch_size)\n",
        "test_loader = torch.utils.data.DataLoader(test, batch_size)"
      ],
      "execution_count": 0,
      "outputs": []
    },
    {
      "cell_type": "markdown",
      "metadata": {
        "id": "Od7Umwd6rMxf",
        "colab_type": "text"
      },
      "source": [
        "## モデルの定義"
      ]
    },
    {
      "cell_type": "code",
      "metadata": {
        "id": "eYQFbfsTo-k1",
        "colab_type": "code",
        "colab": {}
      },
      "source": [
        "class Net(nn.Module):\n",
        "\n",
        "\n",
        "  # 使用するオブジェクトを定義\n",
        "  def __init__(self):\n",
        "    super(Net, self).__init__()\n",
        "    self.fc1 = nn.Linear(4,4) # 全結合層\"fc1\"input:4->output:4\n",
        "    self.fc2 = nn.Linear(4,3) # 全結合層\"fc2\"input:4->output:3\n",
        "\n",
        "  # 順伝播\n",
        "  def forward(self, x):\n",
        "    x = self.fc1(x)\n",
        "    x = F.relu(x)\n",
        "    return x"
      ],
      "execution_count": 0,
      "outputs": []
    },
    {
      "cell_type": "code",
      "metadata": {
        "id": "9js7-uZjqW0H",
        "colab_type": "code",
        "colab": {}
      },
      "source": [
        "# 乱数のシードを固定して再現性を確保\n",
        "torch.manual_seed(0)\n",
        "\n",
        "# インスタンス化\n",
        "net = Net()"
      ],
      "execution_count": 0,
      "outputs": []
    },
    {
      "cell_type": "code",
      "metadata": {
        "id": "jG7adyqFqhfm",
        "colab_type": "code",
        "colab": {
          "base_uri": "https://localhost:8080/",
          "height": 88
        },
        "outputId": "2407b0d7-dd45-40d7-eff0-0419b550c336"
      },
      "source": [
        "# モデルの確認\n",
        "net"
      ],
      "execution_count": 29,
      "outputs": [
        {
          "output_type": "execute_result",
          "data": {
            "text/plain": [
              "Net(\n",
              "  (fc1): Linear(in_features=4, out_features=4, bias=True)\n",
              "  (fc2): Linear(in_features=4, out_features=3, bias=True)\n",
              ")"
            ]
          },
          "metadata": {
            "tags": []
          },
          "execution_count": 29
        }
      ]
    },
    {
      "cell_type": "markdown",
      "metadata": {
        "id": "e7wsowBKrRHt",
        "colab_type": "text"
      },
      "source": [
        "## 目的関数を選択"
      ]
    },
    {
      "cell_type": "code",
      "metadata": {
        "id": "uC4u0ul_qjRr",
        "colab_type": "code",
        "colab": {
          "base_uri": "https://localhost:8080/",
          "height": 34
        },
        "outputId": "21e209cb-dc2f-4877-b904-218228eb9e08"
      },
      "source": [
        "# 目的関数の設定\n",
        "criterion = F.cross_entropy\n",
        "criterion"
      ],
      "execution_count": 30,
      "outputs": [
        {
          "output_type": "execute_result",
          "data": {
            "text/plain": [
              "<function torch.nn.functional.cross_entropy>"
            ]
          },
          "metadata": {
            "tags": []
          },
          "execution_count": 30
        }
      ]
    },
    {
      "cell_type": "markdown",
      "metadata": {
        "id": "kOP_lqShrVZL",
        "colab_type": "text"
      },
      "source": [
        "## 最適化手法の選択"
      ]
    },
    {
      "cell_type": "code",
      "metadata": {
        "id": "EbCwiU2eqzJS",
        "colab_type": "code",
        "colab": {
          "base_uri": "https://localhost:8080/",
          "height": 248
        },
        "outputId": "42430bdb-2a78-4e7b-a87b-84c6dd248ce1"
      },
      "source": [
        "# net.parameters()を展開\n",
        "for parameter in iter(net.parameters()):\n",
        "  print(parameter)"
      ],
      "execution_count": 31,
      "outputs": [
        {
          "output_type": "stream",
          "text": [
            "Parameter containing:\n",
            "tensor([[-0.0037,  0.2682, -0.4115, -0.3680],\n",
            "        [-0.1926,  0.1341, -0.0099,  0.3964],\n",
            "        [-0.0444,  0.1323, -0.1511, -0.0983],\n",
            "        [-0.4777, -0.3311, -0.2061,  0.0185]], requires_grad=True)\n",
            "Parameter containing:\n",
            "tensor([ 0.1977,  0.3000, -0.3390, -0.2177], requires_grad=True)\n",
            "Parameter containing:\n",
            "tensor([[ 0.1816,  0.4152, -0.1029,  0.3742],\n",
            "        [-0.0806,  0.0529,  0.4527, -0.4638],\n",
            "        [-0.3148, -0.1266, -0.1949,  0.4320]], requires_grad=True)\n",
            "Parameter containing:\n",
            "tensor([-0.3241, -0.2302, -0.3493], requires_grad=True)\n"
          ],
          "name": "stdout"
        }
      ]
    },
    {
      "cell_type": "code",
      "metadata": {
        "id": "KkpyHBT8rlAV",
        "colab_type": "code",
        "colab": {}
      },
      "source": [
        ""
      ],
      "execution_count": 0,
      "outputs": []
    }
  ]
}