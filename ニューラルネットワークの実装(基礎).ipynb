{
  "nbformat": 4,
  "nbformat_minor": 0,
  "metadata": {
    "colab": {
      "name": "ニューラルネットワークの実装(基礎).ipynb",
      "provenance": [],
      "collapsed_sections": [],
      "authorship_tag": "ABX9TyPgWtfHapnZPJ40NLGb22KG",
      "include_colab_link": true
    },
    "kernelspec": {
      "name": "python3",
      "display_name": "Python 3"
    },
    "accelerator": "GPU"
  },
  "cells": [
    {
      "cell_type": "markdown",
      "metadata": {
        "id": "view-in-github",
        "colab_type": "text"
      },
      "source": [
        "<a href=\"https://colab.research.google.com/github/hikaruyaku/KIKAGAKU-/blob/master/%E3%83%8B%E3%83%A5%E3%83%BC%E3%83%A9%E3%83%AB%E3%83%8D%E3%83%83%E3%83%88%E3%83%AF%E3%83%BC%E3%82%AF%E3%81%AE%E5%AE%9F%E8%A3%85(%E5%9F%BA%E7%A4%8E).ipynb\" target=\"_parent\"><img src=\"https://colab.research.google.com/assets/colab-badge.svg\" alt=\"Open In Colab\"/></a>"
      ]
    },
    {
      "cell_type": "markdown",
      "metadata": {
        "id": "r8d7hIiIrAlX",
        "colab_type": "text"
      },
      "source": [
        "## データセットの準備"
      ]
    },
    {
      "cell_type": "code",
      "metadata": {
        "id": "rtocxdr6sGfr",
        "colab_type": "code",
        "colab": {}
      },
      "source": [
        "from sklearn.datasets import load_iris\n",
        "\n",
        "# Iris データセットの読み込み\n",
        "x, t = load_iris(return_X_y = True)"
      ],
      "execution_count": 0,
      "outputs": []
    },
    {
      "cell_type": "code",
      "metadata": {
        "id": "CraOr575s8Q8",
        "colab_type": "code",
        "colab": {
          "base_uri": "https://localhost:8080/",
          "height": 34
        },
        "outputId": "3a481f38-e63d-4b7a-fb56-f2fd7450ab17"
      },
      "source": [
        "# 形の確認\n",
        "x.shape, t.shape"
      ],
      "execution_count": 3,
      "outputs": [
        {
          "output_type": "execute_result",
          "data": {
            "text/plain": [
              "((150, 4), (150,))"
            ]
          },
          "metadata": {
            "tags": []
          },
          "execution_count": 3
        }
      ]
    },
    {
      "cell_type": "code",
      "metadata": {
        "id": "lwFuNoods_ff",
        "colab_type": "code",
        "colab": {
          "base_uri": "https://localhost:8080/",
          "height": 34
        },
        "outputId": "8859ae8b-5c4e-4585-b1d8-e96350f7e124"
      },
      "source": [
        "# 型の確認\n",
        "type(x), type(t)"
      ],
      "execution_count": 4,
      "outputs": [
        {
          "output_type": "execute_result",
          "data": {
            "text/plain": [
              "(numpy.ndarray, numpy.ndarray)"
            ]
          },
          "metadata": {
            "tags": []
          },
          "execution_count": 4
        }
      ]
    },
    {
      "cell_type": "code",
      "metadata": {
        "id": "nemJ8s0YITA0",
        "colab_type": "code",
        "colab": {
          "base_uri": "https://localhost:8080/",
          "height": 34
        },
        "outputId": "fa5d416a-e3f6-4dcc-fcd0-bbfb7a3b0b74"
      },
      "source": [
        "# データ型の確認\n",
        "x.dtype, t.dtype"
      ],
      "execution_count": 5,
      "outputs": [
        {
          "output_type": "execute_result",
          "data": {
            "text/plain": [
              "(dtype('float64'), dtype('int64'))"
            ]
          },
          "metadata": {
            "tags": []
          },
          "execution_count": 5
        }
      ]
    },
    {
      "cell_type": "code",
      "metadata": {
        "id": "7vw-D5_zIZPe",
        "colab_type": "code",
        "colab": {
          "base_uri": "https://localhost:8080/",
          "height": 126
        },
        "outputId": "95db93eb-c88d-479f-f252-9c492e6a8d8d"
      },
      "source": [
        "!pip install torch torchvision"
      ],
      "execution_count": 6,
      "outputs": [
        {
          "output_type": "stream",
          "text": [
            "Requirement already satisfied: torch in /usr/local/lib/python3.6/dist-packages (1.5.0+cu101)\n",
            "Requirement already satisfied: torchvision in /usr/local/lib/python3.6/dist-packages (0.6.0+cu101)\n",
            "Requirement already satisfied: numpy in /usr/local/lib/python3.6/dist-packages (from torch) (1.18.3)\n",
            "Requirement already satisfied: future in /usr/local/lib/python3.6/dist-packages (from torch) (0.16.0)\n",
            "Requirement already satisfied: pillow>=4.1.1 in /usr/local/lib/python3.6/dist-packages (from torchvision) (7.0.0)\n"
          ],
          "name": "stdout"
        }
      ]
    },
    {
      "cell_type": "code",
      "metadata": {
        "id": "0oLFa9KZl6xw",
        "colab_type": "code",
        "colab": {}
      },
      "source": [
        "import torch\n",
        "import torch.nn as nn\n",
        "import torch.nn.functional as F"
      ],
      "execution_count": 0,
      "outputs": []
    },
    {
      "cell_type": "code",
      "metadata": {
        "id": "Qy9hgHUdmJaF",
        "colab_type": "code",
        "colab": {}
      },
      "source": [
        "# データ型の変換\n",
        "x = torch.tensor(x, dtype=torch.float32)\n",
        "t = torch.tensor(t, dtype=torch.int64)"
      ],
      "execution_count": 0,
      "outputs": []
    },
    {
      "cell_type": "code",
      "metadata": {
        "id": "sFYBOA4YmYD5",
        "colab_type": "code",
        "colab": {
          "base_uri": "https://localhost:8080/",
          "height": 34
        },
        "outputId": "bcb275f0-416d-4c84-ce38-7c251eb42664"
      },
      "source": [
        "#型の確認\n",
        "type(x), type(t)"
      ],
      "execution_count": 9,
      "outputs": [
        {
          "output_type": "execute_result",
          "data": {
            "text/plain": [
              "(torch.Tensor, torch.Tensor)"
            ]
          },
          "metadata": {
            "tags": []
          },
          "execution_count": 9
        }
      ]
    },
    {
      "cell_type": "code",
      "metadata": {
        "id": "nqDSD5IVmc3F",
        "colab_type": "code",
        "colab": {
          "base_uri": "https://localhost:8080/",
          "height": 34
        },
        "outputId": "06cccc37-fd74-4792-a5bb-e8f316579614"
      },
      "source": [
        "#データ型の確認\n",
        "x.dtype, t.dtype"
      ],
      "execution_count": 10,
      "outputs": [
        {
          "output_type": "execute_result",
          "data": {
            "text/plain": [
              "(torch.float32, torch.int64)"
            ]
          },
          "metadata": {
            "tags": []
          },
          "execution_count": 10
        }
      ]
    },
    {
      "cell_type": "code",
      "metadata": {
        "id": "oXdfppuXminD",
        "colab_type": "code",
        "colab": {
          "base_uri": "https://localhost:8080/",
          "height": 34
        },
        "outputId": "27c34b35-8264-406d-f119-278f22d3f800"
      },
      "source": [
        "#入力変数と目的変数をまとめて、ひとつのオブジェクト dataset に変換\n",
        "dataset = torch.utils.data.TensorDataset(x,t)\n",
        "dataset"
      ],
      "execution_count": 11,
      "outputs": [
        {
          "output_type": "execute_result",
          "data": {
            "text/plain": [
              "<torch.utils.data.dataset.TensorDataset at 0x7fec0478b198>"
            ]
          },
          "metadata": {
            "tags": []
          },
          "execution_count": 11
        }
      ]
    },
    {
      "cell_type": "code",
      "metadata": {
        "id": "fSAB8-hXmzDt",
        "colab_type": "code",
        "colab": {
          "base_uri": "https://localhost:8080/",
          "height": 34
        },
        "outputId": "c084530b-925f-495b-cef6-b09571c849b3"
      },
      "source": [
        "#型の確認\n",
        "type(dataset)"
      ],
      "execution_count": 12,
      "outputs": [
        {
          "output_type": "execute_result",
          "data": {
            "text/plain": [
              "torch.utils.data.dataset.TensorDataset"
            ]
          },
          "metadata": {
            "tags": []
          },
          "execution_count": 12
        }
      ]
    },
    {
      "cell_type": "code",
      "metadata": {
        "id": "poqvntFTm6mt",
        "colab_type": "code",
        "colab": {
          "base_uri": "https://localhost:8080/",
          "height": 34
        },
        "outputId": "d72f00d4-4242-43a0-b934-1bbbca19b355"
      },
      "source": [
        "# (入力値、目標値)のようにタプルで収納されている。\n",
        "dataset[0]"
      ],
      "execution_count": 13,
      "outputs": [
        {
          "output_type": "execute_result",
          "data": {
            "text/plain": [
              "(tensor([5.1000, 3.5000, 1.4000, 0.2000]), tensor(0))"
            ]
          },
          "metadata": {
            "tags": []
          },
          "execution_count": 13
        }
      ]
    },
    {
      "cell_type": "code",
      "metadata": {
        "id": "G7nbYQyKm_QN",
        "colab_type": "code",
        "colab": {
          "base_uri": "https://localhost:8080/",
          "height": 34
        },
        "outputId": "870a278f-93e3-4dc2-d97e-240b56d334ef"
      },
      "source": [
        "# 型の確認\n",
        "type(dataset[0])"
      ],
      "execution_count": 14,
      "outputs": [
        {
          "output_type": "execute_result",
          "data": {
            "text/plain": [
              "tuple"
            ]
          },
          "metadata": {
            "tags": []
          },
          "execution_count": 14
        }
      ]
    },
    {
      "cell_type": "code",
      "metadata": {
        "id": "JX7AumlRnHE1",
        "colab_type": "code",
        "colab": {
          "base_uri": "https://localhost:8080/",
          "height": 34
        },
        "outputId": "c97956d5-31be-4fa0-ffd1-248a03fd239b"
      },
      "source": [
        "# 1 サンプル目の入力値\n",
        "dataset[0][0]"
      ],
      "execution_count": 15,
      "outputs": [
        {
          "output_type": "execute_result",
          "data": {
            "text/plain": [
              "tensor([5.1000, 3.5000, 1.4000, 0.2000])"
            ]
          },
          "metadata": {
            "tags": []
          },
          "execution_count": 15
        }
      ]
    },
    {
      "cell_type": "code",
      "metadata": {
        "id": "JJiTOLjSnP5S",
        "colab_type": "code",
        "colab": {
          "base_uri": "https://localhost:8080/",
          "height": 34
        },
        "outputId": "1cfb785d-e2d3-495d-9086-772194a3a8e0"
      },
      "source": [
        "# 1 サンプル目の目標値\n",
        "dataset[0][1]"
      ],
      "execution_count": 16,
      "outputs": [
        {
          "output_type": "execute_result",
          "data": {
            "text/plain": [
              "tensor(0)"
            ]
          },
          "metadata": {
            "tags": []
          },
          "execution_count": 16
        }
      ]
    },
    {
      "cell_type": "code",
      "metadata": {
        "id": "GRrb6-R5nUGf",
        "colab_type": "code",
        "colab": {
          "base_uri": "https://localhost:8080/",
          "height": 34
        },
        "outputId": "b9885fc5-534a-4c1b-8e5f-ec27aa6d7a70"
      },
      "source": [
        "# サンプル数は len で取得可能\n",
        "len(dataset)"
      ],
      "execution_count": 17,
      "outputs": [
        {
          "output_type": "execute_result",
          "data": {
            "text/plain": [
              "150"
            ]
          },
          "metadata": {
            "tags": []
          },
          "execution_count": 17
        }
      ]
    },
    {
      "cell_type": "code",
      "metadata": {
        "id": "l8_rlYHwnlXP",
        "colab_type": "code",
        "colab": {}
      },
      "source": [
        "# 各データセットのサンプル数を決定\n",
        "# train : val ; test = 60% : 20% : 20%\n",
        "n_train = int(len(dataset) * 0.6)\n",
        "n_val = int(len(dataset) * 0.2)\n",
        "n_test = len(dataset) - n_train - n_val"
      ],
      "execution_count": 0,
      "outputs": []
    },
    {
      "cell_type": "code",
      "metadata": {
        "id": "0FLcjgjRn8Tw",
        "colab_type": "code",
        "colab": {
          "base_uri": "https://localhost:8080/",
          "height": 34
        },
        "outputId": "e1f63288-a31a-45ad-89e4-bd0e89a8d21f"
      },
      "source": [
        "# それぞれのサンプル数を確認\n",
        "n_train, n_val, n_test"
      ],
      "execution_count": 19,
      "outputs": [
        {
          "output_type": "execute_result",
          "data": {
            "text/plain": [
              "(90, 30, 30)"
            ]
          },
          "metadata": {
            "tags": []
          },
          "execution_count": 19
        }
      ]
    },
    {
      "cell_type": "code",
      "metadata": {
        "id": "0DiCXHIaoCAf",
        "colab_type": "code",
        "colab": {}
      },
      "source": [
        "# ランダムに分割を行うため、シードを固定して再現性を確保\n",
        "torch.manual_seed(0)\n",
        "\n",
        "# データセットの分割\n",
        "train, val, test = torch.utils.data.random_split(dataset, [n_train, n_val, n_test])"
      ],
      "execution_count": 0,
      "outputs": []
    },
    {
      "cell_type": "code",
      "metadata": {
        "id": "Zsn3nQmooXiN",
        "colab_type": "code",
        "colab": {
          "base_uri": "https://localhost:8080/",
          "height": 34
        },
        "outputId": "fe8fb716-4b44-4577-d4e8-2be6c1ed71fc"
      },
      "source": [
        "# サンプル数の確認\n",
        "len(train), len(val), len(test)"
      ],
      "execution_count": 21,
      "outputs": [
        {
          "output_type": "execute_result",
          "data": {
            "text/plain": [
              "(90, 30, 30)"
            ]
          },
          "metadata": {
            "tags": []
          },
          "execution_count": 21
        }
      ]
    },
    {
      "cell_type": "markdown",
      "metadata": {
        "id": "7Yxc2dE5rIVZ",
        "colab_type": "text"
      },
      "source": [
        "## ミニバッチ学習"
      ]
    },
    {
      "cell_type": "code",
      "metadata": {
        "id": "Ouq5783cobNf",
        "colab_type": "code",
        "colab": {}
      },
      "source": [
        "# バッチサイズ\n",
        "batch_size = 10"
      ],
      "execution_count": 0,
      "outputs": []
    },
    {
      "cell_type": "code",
      "metadata": {
        "id": "r3Ye45dyoiuX",
        "colab_type": "code",
        "colab": {}
      },
      "source": [
        "# shuffle はデフォルトで False のため、学習データのみ True に指定\n",
        "train_loader = torch.utils.data.DataLoader(train, batch_size, shuffle=True)\n",
        "val_loader = torch.utils.data.DataLoader(val, batch_size)\n",
        "test_loader = torch.utils.data.DataLoader(test, batch_size)"
      ],
      "execution_count": 0,
      "outputs": []
    },
    {
      "cell_type": "markdown",
      "metadata": {
        "id": "Od7Umwd6rMxf",
        "colab_type": "text"
      },
      "source": [
        "## モデルの定義"
      ]
    },
    {
      "cell_type": "code",
      "metadata": {
        "id": "eYQFbfsTo-k1",
        "colab_type": "code",
        "colab": {}
      },
      "source": [
        "class Net(nn.Module):\n",
        "\n",
        "\n",
        "  # 使用するオブジェクトを定義\n",
        "  def __init__(self):\n",
        "    super(Net, self).__init__()\n",
        "    self.fc1 = nn.Linear(4,4) # 全結合層\"fc1\"input:4->output:4\n",
        "    self.fc2 = nn.Linear(4,3) # 全結合層\"fc2\"input:4->output:3\n",
        "\n",
        "  # 順伝播\n",
        "  def forward(self, x):\n",
        "    x = self.fc1(x)\n",
        "    x = F.relu(x)\n",
        "    return x"
      ],
      "execution_count": 0,
      "outputs": []
    },
    {
      "cell_type": "code",
      "metadata": {
        "id": "9js7-uZjqW0H",
        "colab_type": "code",
        "colab": {}
      },
      "source": [
        "# 乱数のシードを固定して再現性を確保\n",
        "torch.manual_seed(0)\n",
        "\n",
        "# インスタンス化\n",
        "net = Net()"
      ],
      "execution_count": 0,
      "outputs": []
    },
    {
      "cell_type": "code",
      "metadata": {
        "id": "jG7adyqFqhfm",
        "colab_type": "code",
        "colab": {
          "base_uri": "https://localhost:8080/",
          "height": 88
        },
        "outputId": "c9507c0c-a4d8-4db0-9c26-2c9728b99eeb"
      },
      "source": [
        "# モデルの確認\n",
        "net"
      ],
      "execution_count": 26,
      "outputs": [
        {
          "output_type": "execute_result",
          "data": {
            "text/plain": [
              "Net(\n",
              "  (fc1): Linear(in_features=4, out_features=4, bias=True)\n",
              "  (fc2): Linear(in_features=4, out_features=3, bias=True)\n",
              ")"
            ]
          },
          "metadata": {
            "tags": []
          },
          "execution_count": 26
        }
      ]
    },
    {
      "cell_type": "markdown",
      "metadata": {
        "id": "e7wsowBKrRHt",
        "colab_type": "text"
      },
      "source": [
        "## 目的関数を選択"
      ]
    },
    {
      "cell_type": "code",
      "metadata": {
        "id": "uC4u0ul_qjRr",
        "colab_type": "code",
        "colab": {
          "base_uri": "https://localhost:8080/",
          "height": 34
        },
        "outputId": "f8a16859-03a1-4b16-a09b-6b0b1101a474"
      },
      "source": [
        "# 目的関数の設定\n",
        "criterion = F.cross_entropy\n",
        "criterion"
      ],
      "execution_count": 27,
      "outputs": [
        {
          "output_type": "execute_result",
          "data": {
            "text/plain": [
              "<function torch.nn.functional.cross_entropy>"
            ]
          },
          "metadata": {
            "tags": []
          },
          "execution_count": 27
        }
      ]
    },
    {
      "cell_type": "markdown",
      "metadata": {
        "id": "kOP_lqShrVZL",
        "colab_type": "text"
      },
      "source": [
        "## 最適化手法の選択"
      ]
    },
    {
      "cell_type": "code",
      "metadata": {
        "id": "EbCwiU2eqzJS",
        "colab_type": "code",
        "colab": {
          "base_uri": "https://localhost:8080/",
          "height": 248
        },
        "outputId": "8ca12b6a-ddb6-439a-c3f2-5da4037a0de6"
      },
      "source": [
        "# net.parameters()を展開\n",
        "for parameter in iter(net.parameters()):\n",
        "  print(parameter)"
      ],
      "execution_count": 28,
      "outputs": [
        {
          "output_type": "stream",
          "text": [
            "Parameter containing:\n",
            "tensor([[-0.0037,  0.2682, -0.4115, -0.3680],\n",
            "        [-0.1926,  0.1341, -0.0099,  0.3964],\n",
            "        [-0.0444,  0.1323, -0.1511, -0.0983],\n",
            "        [-0.4777, -0.3311, -0.2061,  0.0185]], requires_grad=True)\n",
            "Parameter containing:\n",
            "tensor([ 0.1977,  0.3000, -0.3390, -0.2177], requires_grad=True)\n",
            "Parameter containing:\n",
            "tensor([[ 0.1816,  0.4152, -0.1029,  0.3742],\n",
            "        [-0.0806,  0.0529,  0.4527, -0.4638],\n",
            "        [-0.3148, -0.1266, -0.1949,  0.4320]], requires_grad=True)\n",
            "Parameter containing:\n",
            "tensor([-0.3241, -0.2302, -0.3493], requires_grad=True)\n"
          ],
          "name": "stdout"
        }
      ]
    },
    {
      "cell_type": "code",
      "metadata": {
        "id": "KkpyHBT8rlAV",
        "colab_type": "code",
        "colab": {
          "base_uri": "https://localhost:8080/",
          "height": 159
        },
        "outputId": "79e14bd5-68ee-46e4-e673-1ccaeeeb50b1"
      },
      "source": [
        "# 最適化手法の選択\n",
        "optimizer = torch.optim.SGD(net.parameters(), lr=0.1)\n",
        "optimizer"
      ],
      "execution_count": 29,
      "outputs": [
        {
          "output_type": "execute_result",
          "data": {
            "text/plain": [
              "SGD (\n",
              "Parameter Group 0\n",
              "    dampening: 0\n",
              "    lr: 0.1\n",
              "    momentum: 0\n",
              "    nesterov: False\n",
              "    weight_decay: 0\n",
              ")"
            ]
          },
          "metadata": {
            "tags": []
          },
          "execution_count": 29
        }
      ]
    },
    {
      "cell_type": "markdown",
      "metadata": {
        "id": "Xljxemi2tp7Y",
        "colab_type": "text"
      },
      "source": [
        "## モデルの学習手順\n",
        "\n",
        "```\n",
        "for batch in train_loader:\n",
        "  batch を利用した処理\n",
        "```\n"
      ]
    },
    {
      "cell_type": "code",
      "metadata": {
        "id": "40X7wIPqtny5",
        "colab_type": "code",
        "colab": {
          "base_uri": "https://localhost:8080/",
          "height": 212
        },
        "outputId": "efa53470-c146-44a9-f31c-26c624eff780"
      },
      "source": [
        "# バッチサイズ分のサンプルの抽出\n",
        "batch = next(iter(train_loader))\n",
        "batch"
      ],
      "execution_count": 30,
      "outputs": [
        {
          "output_type": "execute_result",
          "data": {
            "text/plain": [
              "[tensor([[6.4000, 3.2000, 5.3000, 2.3000],\n",
              "         [6.4000, 2.7000, 5.3000, 1.9000],\n",
              "         [5.9000, 3.0000, 4.2000, 1.5000],\n",
              "         [6.9000, 3.1000, 5.4000, 2.1000],\n",
              "         [5.5000, 2.4000, 3.8000, 1.1000],\n",
              "         [5.6000, 2.7000, 4.2000, 1.3000],\n",
              "         [5.8000, 2.7000, 5.1000, 1.9000],\n",
              "         [6.9000, 3.1000, 4.9000, 1.5000],\n",
              "         [6.3000, 2.3000, 4.4000, 1.3000],\n",
              "         [7.2000, 3.0000, 5.8000, 1.6000]]),\n",
              " tensor([2, 2, 1, 2, 1, 1, 2, 1, 1, 2])]"
            ]
          },
          "metadata": {
            "tags": []
          },
          "execution_count": 30
        }
      ]
    },
    {
      "cell_type": "code",
      "metadata": {
        "id": "9I6veG68uDq1",
        "colab_type": "code",
        "colab": {}
      },
      "source": [
        "# 入力値と目標値に分割\n",
        "x, t = batch"
      ],
      "execution_count": 0,
      "outputs": []
    },
    {
      "cell_type": "code",
      "metadata": {
        "id": "JfBr1g7nuKxX",
        "colab_type": "code",
        "colab": {
          "base_uri": "https://localhost:8080/",
          "height": 194
        },
        "outputId": "836213cd-658c-4a43-a354-6b8b41a9230b"
      },
      "source": [
        "# 入力値の確認\n",
        "x"
      ],
      "execution_count": 32,
      "outputs": [
        {
          "output_type": "execute_result",
          "data": {
            "text/plain": [
              "tensor([[6.4000, 3.2000, 5.3000, 2.3000],\n",
              "        [6.4000, 2.7000, 5.3000, 1.9000],\n",
              "        [5.9000, 3.0000, 4.2000, 1.5000],\n",
              "        [6.9000, 3.1000, 5.4000, 2.1000],\n",
              "        [5.5000, 2.4000, 3.8000, 1.1000],\n",
              "        [5.6000, 2.7000, 4.2000, 1.3000],\n",
              "        [5.8000, 2.7000, 5.1000, 1.9000],\n",
              "        [6.9000, 3.1000, 4.9000, 1.5000],\n",
              "        [6.3000, 2.3000, 4.4000, 1.3000],\n",
              "        [7.2000, 3.0000, 5.8000, 1.6000]])"
            ]
          },
          "metadata": {
            "tags": []
          },
          "execution_count": 32
        }
      ]
    },
    {
      "cell_type": "code",
      "metadata": {
        "id": "cKe19GuluMnI",
        "colab_type": "code",
        "colab": {
          "base_uri": "https://localhost:8080/",
          "height": 34
        },
        "outputId": "76ab7813-d8e8-483d-9cba-036eace2ab06"
      },
      "source": [
        "# 目標値の確認\n",
        "t"
      ],
      "execution_count": 33,
      "outputs": [
        {
          "output_type": "execute_result",
          "data": {
            "text/plain": [
              "tensor([2, 2, 1, 2, 1, 1, 2, 1, 1, 2])"
            ]
          },
          "metadata": {
            "tags": []
          },
          "execution_count": 33
        }
      ]
    },
    {
      "cell_type": "code",
      "metadata": {
        "id": "JSVZ4CD0uO2g",
        "colab_type": "code",
        "colab": {
          "base_uri": "https://localhost:8080/",
          "height": 106
        },
        "outputId": "7dbd40a7-c061-4894-a7b6-0c64dc48fd32"
      },
      "source": [
        "# 全結合層 fc1 の重み\n",
        "net.fc1.weight"
      ],
      "execution_count": 34,
      "outputs": [
        {
          "output_type": "execute_result",
          "data": {
            "text/plain": [
              "Parameter containing:\n",
              "tensor([[-0.0037,  0.2682, -0.4115, -0.3680],\n",
              "        [-0.1926,  0.1341, -0.0099,  0.3964],\n",
              "        [-0.0444,  0.1323, -0.1511, -0.0983],\n",
              "        [-0.4777, -0.3311, -0.2061,  0.0185]], requires_grad=True)"
            ]
          },
          "metadata": {
            "tags": []
          },
          "execution_count": 34
        }
      ]
    },
    {
      "cell_type": "code",
      "metadata": {
        "id": "wFY0B8tYum05",
        "colab_type": "code",
        "colab": {
          "base_uri": "https://localhost:8080/",
          "height": 52
        },
        "outputId": "2405e677-f5d0-4bb9-9ef2-63290b0e64c4"
      },
      "source": [
        "# 全結合層 fc1 のバイアス\n",
        "net.fc1.bias"
      ],
      "execution_count": 35,
      "outputs": [
        {
          "output_type": "execute_result",
          "data": {
            "text/plain": [
              "Parameter containing:\n",
              "tensor([ 0.1977,  0.3000, -0.3390, -0.2177], requires_grad=True)"
            ]
          },
          "metadata": {
            "tags": []
          },
          "execution_count": 35
        }
      ]
    },
    {
      "cell_type": "code",
      "metadata": {
        "id": "5jkubF1durw3",
        "colab_type": "code",
        "colab": {
          "base_uri": "https://localhost:8080/",
          "height": 88
        },
        "outputId": "f34d8568-1c9a-4a59-a3a8-52f4ce64163c"
      },
      "source": [
        "# 全結合層 fc2 の重み\n",
        "net.fc2.weight"
      ],
      "execution_count": 36,
      "outputs": [
        {
          "output_type": "execute_result",
          "data": {
            "text/plain": [
              "Parameter containing:\n",
              "tensor([[ 0.1816,  0.4152, -0.1029,  0.3742],\n",
              "        [-0.0806,  0.0529,  0.4527, -0.4638],\n",
              "        [-0.3148, -0.1266, -0.1949,  0.4320]], requires_grad=True)"
            ]
          },
          "metadata": {
            "tags": []
          },
          "execution_count": 36
        }
      ]
    },
    {
      "cell_type": "code",
      "metadata": {
        "id": "JMxQChexuw-Y",
        "colab_type": "code",
        "colab": {
          "base_uri": "https://localhost:8080/",
          "height": 52
        },
        "outputId": "5b53f8c0-e619-4e87-c9e4-ee226de37dee"
      },
      "source": [
        "# 全結合層 fc2 のバイアス\n",
        "net.fc2.bias"
      ],
      "execution_count": 37,
      "outputs": [
        {
          "output_type": "execute_result",
          "data": {
            "text/plain": [
              "Parameter containing:\n",
              "tensor([-0.3241, -0.2302, -0.3493], requires_grad=True)"
            ]
          },
          "metadata": {
            "tags": []
          },
          "execution_count": 37
        }
      ]
    },
    {
      "cell_type": "code",
      "metadata": {
        "id": "98HniRYvu008",
        "colab_type": "code",
        "colab": {
          "base_uri": "https://localhost:8080/",
          "height": 194
        },
        "outputId": "77289fd9-2672-4c59-eafa-6555157312b7"
      },
      "source": [
        "# 予測値の算出(非推奨)\n",
        "y = net.forward(x)\n",
        "y"
      ],
      "execution_count": 38,
      "outputs": [
        {
          "output_type": "execute_result",
          "data": {
            "text/plain": [
              "tensor([[0.0000, 0.3559, 0.0000, 0.0000],\n",
              "        [0.0000, 0.1303, 0.0000, 0.0000],\n",
              "        [0.0000, 0.1191, 0.0000, 0.0000],\n",
              "        [0.0000, 0.1659, 0.0000, 0.0000],\n",
              "        [0.0000, 0.0000, 0.0000, 0.0000],\n",
              "        [0.0000, 0.0574, 0.0000, 0.0000],\n",
              "        [0.0000, 0.2478, 0.0000, 0.0000],\n",
              "        [0.0000, 0.0000, 0.0000, 0.0000],\n",
              "        [0.0000, 0.0000, 0.0000, 0.0000],\n",
              "        [0.0000, 0.0000, 0.0000, 0.0000]], grad_fn=<ReluBackward0>)"
            ]
          },
          "metadata": {
            "tags": []
          },
          "execution_count": 38
        }
      ]
    },
    {
      "cell_type": "code",
      "metadata": {
        "id": "9VN8fYqGvBqJ",
        "colab_type": "code",
        "colab": {
          "base_uri": "https://localhost:8080/",
          "height": 194
        },
        "outputId": "cf669c00-278c-46fe-d817-930ba1093d58"
      },
      "source": [
        "# call method を用いた forward の計算(推奨)\n",
        "y = net(x)\n",
        "y"
      ],
      "execution_count": 39,
      "outputs": [
        {
          "output_type": "execute_result",
          "data": {
            "text/plain": [
              "tensor([[0.0000, 0.3559, 0.0000, 0.0000],\n",
              "        [0.0000, 0.1303, 0.0000, 0.0000],\n",
              "        [0.0000, 0.1191, 0.0000, 0.0000],\n",
              "        [0.0000, 0.1659, 0.0000, 0.0000],\n",
              "        [0.0000, 0.0000, 0.0000, 0.0000],\n",
              "        [0.0000, 0.0574, 0.0000, 0.0000],\n",
              "        [0.0000, 0.2478, 0.0000, 0.0000],\n",
              "        [0.0000, 0.0000, 0.0000, 0.0000],\n",
              "        [0.0000, 0.0000, 0.0000, 0.0000],\n",
              "        [0.0000, 0.0000, 0.0000, 0.0000]], grad_fn=<ReluBackward0>)"
            ]
          },
          "metadata": {
            "tags": []
          },
          "execution_count": 39
        }
      ]
    },
    {
      "cell_type": "code",
      "metadata": {
        "id": "mNofIvx3vHZs",
        "colab_type": "code",
        "colab": {
          "base_uri": "https://localhost:8080/",
          "height": 34
        },
        "outputId": "5d77a3a2-7a9f-4c41-f4b9-b12d8d05a18f"
      },
      "source": [
        "# 目的関数の計算 criterion の call メソッドを利用\n",
        "loss = criterion(y,t)\n",
        "loss"
      ],
      "execution_count": 40,
      "outputs": [
        {
          "output_type": "execute_result",
          "data": {
            "text/plain": [
              "tensor(1.3980, grad_fn=<NllLossBackward>)"
            ]
          },
          "metadata": {
            "tags": []
          },
          "execution_count": 40
        }
      ]
    },
    {
      "cell_type": "code",
      "metadata": {
        "id": "uEf1r3VovT2i",
        "colab_type": "code",
        "colab": {}
      },
      "source": [
        "# 全結合層 fc1 の重みに関する勾配\n",
        "net.fc1.weight.grad\n",
        "\n",
        "# 全結合層 fc1 のバイアスに関する勾配\n",
        "net.fc1.bias.grad\n",
        "\n",
        "# 全結合層 fc2 の重みに関する勾配\n",
        "net.fc2.weight.grad\n",
        "\n",
        "# 全結合層 fc2 のバイアスに関する勾配\n",
        "net.fc2.bias.grad"
      ],
      "execution_count": 0,
      "outputs": []
    },
    {
      "cell_type": "code",
      "metadata": {
        "id": "TqPXG12fwLAI",
        "colab_type": "code",
        "colab": {}
      },
      "source": [
        "# 勾配の算出\n",
        "loss.backward()"
      ],
      "execution_count": 0,
      "outputs": []
    },
    {
      "cell_type": "code",
      "metadata": {
        "id": "mP2UBiOJwPKm",
        "colab_type": "code",
        "colab": {
          "base_uri": "https://localhost:8080/",
          "height": 88
        },
        "outputId": "53a59984-b8e7-433c-e8cf-dcdc13535b87"
      },
      "source": [
        "# 全結合層 fc1 の重みに関する勾配\n",
        "net.fc1.weight.grad"
      ],
      "execution_count": 43,
      "outputs": [
        {
          "output_type": "execute_result",
          "data": {
            "text/plain": [
              "tensor([[ 0.0000,  0.0000,  0.0000,  0.0000],\n",
              "        [-0.0919, -0.0718,  0.0061,  0.0375],\n",
              "        [ 0.0000,  0.0000,  0.0000,  0.0000],\n",
              "        [ 0.0000,  0.0000,  0.0000,  0.0000]])"
            ]
          },
          "metadata": {
            "tags": []
          },
          "execution_count": 43
        }
      ]
    },
    {
      "cell_type": "code",
      "metadata": {
        "id": "M5mxsl__wgwk",
        "colab_type": "code",
        "colab": {
          "base_uri": "https://localhost:8080/",
          "height": 34
        },
        "outputId": "c5c3165d-3f01-4e22-b1c5-491446166a05"
      },
      "source": [
        "# 全結合層 fc1 のバイアスに関する勾配\n",
        "net.fc1.bias.grad"
      ],
      "execution_count": 44,
      "outputs": [
        {
          "output_type": "execute_result",
          "data": {
            "text/plain": [
              "tensor([ 0.0000, -0.0287,  0.0000,  0.0000])"
            ]
          },
          "metadata": {
            "tags": []
          },
          "execution_count": 44
        }
      ]
    },
    {
      "cell_type": "code",
      "metadata": {
        "id": "ZB3kdiUQwnWC",
        "colab_type": "code",
        "colab": {}
      },
      "source": [
        "# 全結合層 fc2 の重みに関する勾配\n",
        "net.fc2.weight.grad"
      ],
      "execution_count": 0,
      "outputs": []
    },
    {
      "cell_type": "code",
      "metadata": {
        "id": "ol2fhD5LwtEk",
        "colab_type": "code",
        "colab": {}
      },
      "source": [
        "# 全結合層 fc2 のバイアスに関する勾配\n",
        "net.fc2.bias.grad"
      ],
      "execution_count": 0,
      "outputs": []
    },
    {
      "cell_type": "code",
      "metadata": {
        "id": "MJFQ789MxEQr",
        "colab_type": "code",
        "colab": {}
      },
      "source": [
        "# 勾配の情報を用いたパラメータの更新\n",
        "optimizer.step()"
      ],
      "execution_count": 0,
      "outputs": []
    },
    {
      "cell_type": "code",
      "metadata": {
        "id": "jaLEw_E4yIag",
        "colab_type": "code",
        "colab": {
          "base_uri": "https://localhost:8080/",
          "height": 106
        },
        "outputId": "0b297a10-38b1-4fbd-a873-3deb510d2cd6"
      },
      "source": [
        "# 全結合層 fc1 の重み\n",
        "net.fc1.weight"
      ],
      "execution_count": 48,
      "outputs": [
        {
          "output_type": "execute_result",
          "data": {
            "text/plain": [
              "Parameter containing:\n",
              "tensor([[-0.0037,  0.2682, -0.4115, -0.3680],\n",
              "        [-0.1834,  0.1413, -0.0105,  0.3927],\n",
              "        [-0.0444,  0.1323, -0.1511, -0.0983],\n",
              "        [-0.4777, -0.3311, -0.2061,  0.0185]], requires_grad=True)"
            ]
          },
          "metadata": {
            "tags": []
          },
          "execution_count": 48
        }
      ]
    },
    {
      "cell_type": "code",
      "metadata": {
        "id": "4QDJ-0JZyPVY",
        "colab_type": "code",
        "colab": {
          "base_uri": "https://localhost:8080/",
          "height": 52
        },
        "outputId": "a1b08ba4-7ae3-4fae-dff8-2c07c72c1597"
      },
      "source": [
        "# 全結合層 fc1 のバイアス\n",
        "net.fc1.bias"
      ],
      "execution_count": 49,
      "outputs": [
        {
          "output_type": "execute_result",
          "data": {
            "text/plain": [
              "Parameter containing:\n",
              "tensor([ 0.1977,  0.3029, -0.3390, -0.2177], requires_grad=True)"
            ]
          },
          "metadata": {
            "tags": []
          },
          "execution_count": 49
        }
      ]
    },
    {
      "cell_type": "code",
      "metadata": {
        "id": "oZAFiahryUVa",
        "colab_type": "code",
        "colab": {
          "base_uri": "https://localhost:8080/",
          "height": 88
        },
        "outputId": "401a75cb-4536-4f1f-e3a6-7fe78517a62c"
      },
      "source": [
        "# 全結合層 fc2 の重み\n",
        "net.fc2.weight"
      ],
      "execution_count": 50,
      "outputs": [
        {
          "output_type": "execute_result",
          "data": {
            "text/plain": [
              "Parameter containing:\n",
              "tensor([[ 0.1816,  0.4152, -0.1029,  0.3742],\n",
              "        [-0.0806,  0.0529,  0.4527, -0.4638],\n",
              "        [-0.3148, -0.1266, -0.1949,  0.4320]], requires_grad=True)"
            ]
          },
          "metadata": {
            "tags": []
          },
          "execution_count": 50
        }
      ]
    },
    {
      "cell_type": "code",
      "metadata": {
        "id": "PhiB63eFybff",
        "colab_type": "code",
        "colab": {
          "base_uri": "https://localhost:8080/",
          "height": 52
        },
        "outputId": "cd93d6ba-3e19-4a8c-a46a-c098ae920741"
      },
      "source": [
        "# 全結合層 fc2 のバイアス\n",
        "net.fc2.bias"
      ],
      "execution_count": 51,
      "outputs": [
        {
          "output_type": "execute_result",
          "data": {
            "text/plain": [
              "Parameter containing:\n",
              "tensor([-0.3241, -0.2302, -0.3493], requires_grad=True)"
            ]
          },
          "metadata": {
            "tags": []
          },
          "execution_count": 51
        }
      ]
    },
    {
      "cell_type": "markdown",
      "metadata": {
        "id": "VWItmL1LzXKa",
        "colab_type": "text"
      },
      "source": [
        "### GPUの設定方法"
      ]
    },
    {
      "cell_type": "code",
      "metadata": {
        "id": "5gMyJAd9yfd1",
        "colab_type": "code",
        "colab": {
          "base_uri": "https://localhost:8080/",
          "height": 34
        },
        "outputId": "37a7fd42-303f-41e8-8000-1667697f9d41"
      },
      "source": [
        "# 演算に使用できる GPU の有無を確認\n",
        "torch.cuda.is_available()"
      ],
      "execution_count": 52,
      "outputs": [
        {
          "output_type": "execute_result",
          "data": {
            "text/plain": [
              "True"
            ]
          },
          "metadata": {
            "tags": []
          },
          "execution_count": 52
        }
      ]
    },
    {
      "cell_type": "code",
      "metadata": {
        "id": "byUqDPSiyr-9",
        "colab_type": "code",
        "colab": {
          "base_uri": "https://localhost:8080/",
          "height": 34
        },
        "outputId": "fc070b7e-28d5-4ab5-cca6-bba3ed77fe04"
      },
      "source": [
        "# GPU の設定状況に基づいたデバイスの選択\n",
        "device = torch.device('cuda:0' if torch.cuda.is_available() else 'cpu')\n",
        "device"
      ],
      "execution_count": 55,
      "outputs": [
        {
          "output_type": "execute_result",
          "data": {
            "text/plain": [
              "device(type='cuda', index=0)"
            ]
          },
          "metadata": {
            "tags": []
          },
          "execution_count": 55
        }
      ]
    },
    {
      "cell_type": "code",
      "metadata": {
        "id": "_Wr2lwFCzuxR",
        "colab_type": "code",
        "colab": {
          "base_uri": "https://localhost:8080/",
          "height": 88
        },
        "outputId": "1504376c-fc5f-4c86-a237-1aec8c436b5c"
      },
      "source": [
        "# 指定したデバイスへのモデルの転送\n",
        "net.to(device)"
      ],
      "execution_count": 56,
      "outputs": [
        {
          "output_type": "execute_result",
          "data": {
            "text/plain": [
              "Net(\n",
              "  (fc1): Linear(in_features=4, out_features=4, bias=True)\n",
              "  (fc2): Linear(in_features=4, out_features=3, bias=True)\n",
              ")"
            ]
          },
          "metadata": {
            "tags": []
          },
          "execution_count": 56
        }
      ]
    },
    {
      "cell_type": "code",
      "metadata": {
        "id": "YHcww3Hfz7sp",
        "colab_type": "code",
        "colab": {
          "base_uri": "https://localhost:8080/",
          "height": 194
        },
        "outputId": "bf75419c-3292-4320-b4a3-817792696b6e"
      },
      "source": [
        "# 指定したデバイスへの入力変数の転送\n",
        "x = x.to(device)\n",
        "x"
      ],
      "execution_count": 57,
      "outputs": [
        {
          "output_type": "execute_result",
          "data": {
            "text/plain": [
              "tensor([[6.4000, 3.2000, 5.3000, 2.3000],\n",
              "        [6.4000, 2.7000, 5.3000, 1.9000],\n",
              "        [5.9000, 3.0000, 4.2000, 1.5000],\n",
              "        [6.9000, 3.1000, 5.4000, 2.1000],\n",
              "        [5.5000, 2.4000, 3.8000, 1.1000],\n",
              "        [5.6000, 2.7000, 4.2000, 1.3000],\n",
              "        [5.8000, 2.7000, 5.1000, 1.9000],\n",
              "        [6.9000, 3.1000, 4.9000, 1.5000],\n",
              "        [6.3000, 2.3000, 4.4000, 1.3000],\n",
              "        [7.2000, 3.0000, 5.8000, 1.6000]], device='cuda:0')"
            ]
          },
          "metadata": {
            "tags": []
          },
          "execution_count": 57
        }
      ]
    },
    {
      "cell_type": "code",
      "metadata": {
        "id": "aN0i-tYt0DqR",
        "colab_type": "code",
        "colab": {
          "base_uri": "https://localhost:8080/",
          "height": 34
        },
        "outputId": "5c580d58-ae09-4e54-8a15-d3d16f11e450"
      },
      "source": [
        "# 指定したデバイスへの目的変数の転送\n",
        "t = t.to(device)\n",
        "t"
      ],
      "execution_count": 58,
      "outputs": [
        {
          "output_type": "execute_result",
          "data": {
            "text/plain": [
              "tensor([2, 2, 1, 2, 1, 1, 2, 1, 1, 2], device='cuda:0')"
            ]
          },
          "metadata": {
            "tags": []
          },
          "execution_count": 58
        }
      ]
    },
    {
      "cell_type": "code",
      "metadata": {
        "id": "7UPdxWgg0KDl",
        "colab_type": "code",
        "colab": {}
      },
      "source": [
        "# 勾配情報の初期化\n",
        "optimizer.zero_grad()"
      ],
      "execution_count": 0,
      "outputs": []
    },
    {
      "cell_type": "code",
      "metadata": {
        "id": "vQW9kaFU0OP-",
        "colab_type": "code",
        "colab": {
          "base_uri": "https://localhost:8080/",
          "height": 88
        },
        "outputId": "1d01d23d-40fc-496c-b8d8-e471f8e19242"
      },
      "source": [
        "# 初期化後の勾配情報\n",
        "net.fc1.weight.grad"
      ],
      "execution_count": 60,
      "outputs": [
        {
          "output_type": "execute_result",
          "data": {
            "text/plain": [
              "tensor([[0., 0., 0., 0.],\n",
              "        [0., 0., 0., 0.],\n",
              "        [0., 0., 0., 0.],\n",
              "        [0., 0., 0., 0.]], device='cuda:0')"
            ]
          },
          "metadata": {
            "tags": []
          },
          "execution_count": 60
        }
      ]
    },
    {
      "cell_type": "code",
      "metadata": {
        "id": "InA3Jvo70TfR",
        "colab_type": "code",
        "colab": {
          "base_uri": "https://localhost:8080/",
          "height": 34
        },
        "outputId": "3c7c414a-910a-4661-f10d-daaae036a8b7"
      },
      "source": [
        "net.fc1.bias.grad"
      ],
      "execution_count": 61,
      "outputs": [
        {
          "output_type": "execute_result",
          "data": {
            "text/plain": [
              "tensor([0., 0., 0., 0.], device='cuda:0')"
            ]
          },
          "metadata": {
            "tags": []
          },
          "execution_count": 61
        }
      ]
    },
    {
      "cell_type": "markdown",
      "metadata": {
        "id": "Vg3opLKf0Y2n",
        "colab_type": "text"
      },
      "source": [
        "## モデルを学習"
      ]
    },
    {
      "cell_type": "code",
      "metadata": {
        "id": "oyMwgn3q0XGr",
        "colab_type": "code",
        "colab": {
          "base_uri": "https://localhost:8080/",
          "height": 177
        },
        "outputId": "ed9e7df0-7192-411b-9d80-8d8bcded7c26"
      },
      "source": [
        "# エポックの数\n",
        "max_epoch = 1\n",
        "\n",
        "# モデルの初期化\n",
        "torch.manual_seed(0)\n",
        "\n",
        "# モデルのインスタンス化とデバイスへの転送\n",
        "net = Net().to(device)\n",
        "\n",
        "# 最適化手法の選択\n",
        "optimizer = torch.optim.SGD(net.parameters(), lr=0.1)\n",
        "\n",
        "# 学習ループ\n",
        "for epoch in range(max_epoch):\n",
        "\n",
        "  for batch in train_loader:\n",
        "\n",
        "    # バッチサイズ分のサンプルを抽出\n",
        "    x, t = batch\n",
        "\n",
        "    # 学習時に使用するデバイスへデータの転送\n",
        "    x = x.to(device)\n",
        "    t = t.to(device)\n",
        "\n",
        "    # パラメータの購買を初期化\n",
        "    optimizer.zero_grad()\n",
        "\n",
        "    # 予測値の算出\n",
        "    y = net(x)\n",
        "\n",
        "    # 目標値と予測値から目的関数の値を導出\n",
        "    loss = criterion(y, t)\n",
        "\n",
        "    # 目的関数の値を表示して確認\n",
        "    # item(): tensot.Tensor => float\n",
        "    print('loss', loss.item())\n",
        "\n",
        "    # 各パラメータの勾配を算出\n",
        "    loss.backward()\n",
        "\n",
        "    # 勾配の情報を用いたパラメータの更新\n",
        "    optimizer.step()"
      ],
      "execution_count": 62,
      "outputs": [
        {
          "output_type": "stream",
          "text": [
            "loss 1.3980052471160889\n",
            "loss 1.3477176427841187\n",
            "loss 1.486327886581421\n",
            "loss 1.1727179288864136\n",
            "loss 1.2937837839126587\n",
            "loss 1.1389936208724976\n",
            "loss 1.0209020376205444\n",
            "loss 0.9248183965682983\n",
            "loss 0.8647987246513367\n"
          ],
          "name": "stdout"
        }
      ]
    },
    {
      "cell_type": "code",
      "metadata": {
        "id": "C-EWYZgY1ncm",
        "colab_type": "code",
        "colab": {
          "base_uri": "https://localhost:8080/",
          "height": 52
        },
        "outputId": "377a5f27-3b01-4643-a668-047505077661"
      },
      "source": [
        "# dim=1 で行ごとの最大値に対する要素番号を取得(dim=0 は列ごと)\n",
        "y_label = torch.argmax(y, dim=1)\n",
        "y_label"
      ],
      "execution_count": 63,
      "outputs": [
        {
          "output_type": "execute_result",
          "data": {
            "text/plain": [
              "tensor([0, 0, 3, 0, 0, 3, 3, 0, 0, 0], device='cuda:0',\n",
              "       grad_fn=<NotImplemented>)"
            ]
          },
          "metadata": {
            "tags": []
          },
          "execution_count": 63
        }
      ]
    },
    {
      "cell_type": "code",
      "metadata": {
        "id": "c4ouHpu52IYt",
        "colab_type": "code",
        "colab": {
          "base_uri": "https://localhost:8080/",
          "height": 34
        },
        "outputId": "c9c1eaf5-fdfb-4b94-df26-449efdee2510"
      },
      "source": [
        "# 目的変数\n",
        "t"
      ],
      "execution_count": 64,
      "outputs": [
        {
          "output_type": "execute_result",
          "data": {
            "text/plain": [
              "tensor([0, 1, 2, 0, 0, 2, 2, 1, 0, 0], device='cuda:0')"
            ]
          },
          "metadata": {
            "tags": []
          },
          "execution_count": 64
        }
      ]
    },
    {
      "cell_type": "code",
      "metadata": {
        "id": "PWladz2g2LqS",
        "colab_type": "code",
        "colab": {
          "base_uri": "https://localhost:8080/",
          "height": 52
        },
        "outputId": "ecbd815f-4e65-452f-ece7-ae08f8ea7929"
      },
      "source": [
        "# 値が一致しているか確認\n",
        "y_label == t"
      ],
      "execution_count": 65,
      "outputs": [
        {
          "output_type": "execute_result",
          "data": {
            "text/plain": [
              "tensor([ True, False, False,  True,  True, False, False, False,  True,  True],\n",
              "       device='cuda:0')"
            ]
          },
          "metadata": {
            "tags": []
          },
          "execution_count": 65
        }
      ]
    },
    {
      "cell_type": "code",
      "metadata": {
        "id": "lFNqK3R_2QMS",
        "colab_type": "code",
        "colab": {
          "base_uri": "https://localhost:8080/",
          "height": 34
        },
        "outputId": "99ab2447-7e17-4744-9d8a-b81cbe5e7026"
      },
      "source": [
        "# 値がTrue となる個数の総和\n",
        "torch.sum(y_label == t)"
      ],
      "execution_count": 66,
      "outputs": [
        {
          "output_type": "execute_result",
          "data": {
            "text/plain": [
              "tensor(5, device='cuda:0')"
            ]
          },
          "metadata": {
            "tags": []
          },
          "execution_count": 66
        }
      ]
    },
    {
      "cell_type": "code",
      "metadata": {
        "id": "9Tjblho32Xit",
        "colab_type": "code",
        "colab": {
          "base_uri": "https://localhost:8080/",
          "height": 34
        },
        "outputId": "fd3b6264-ab52-48e3-b4f9-984f458aae7d"
      },
      "source": [
        "# int => float\n",
        "torch.sum(y_label == t) * 1.0"
      ],
      "execution_count": 67,
      "outputs": [
        {
          "output_type": "execute_result",
          "data": {
            "text/plain": [
              "tensor(5., device='cuda:0')"
            ]
          },
          "metadata": {
            "tags": []
          },
          "execution_count": 67
        }
      ]
    },
    {
      "cell_type": "code",
      "metadata": {
        "id": "KVMSNW8t2p9P",
        "colab_type": "code",
        "colab": {
          "base_uri": "https://localhost:8080/",
          "height": 34
        },
        "outputId": "e47eff0f-394f-4491-e9e2-862b0b51f58b"
      },
      "source": [
        "# 正解率\n",
        "acc = torch.sum(y_label == t) * 1.0 / len(t)\n",
        "acc"
      ],
      "execution_count": 68,
      "outputs": [
        {
          "output_type": "execute_result",
          "data": {
            "text/plain": [
              "tensor(0.5000, device='cuda:0')"
            ]
          },
          "metadata": {
            "tags": []
          },
          "execution_count": 68
        }
      ]
    },
    {
      "cell_type": "markdown",
      "metadata": {
        "id": "HOeZeu2X277t",
        "colab_type": "text"
      },
      "source": [
        "### ACCのモデルへの組み込み"
      ]
    },
    {
      "cell_type": "code",
      "metadata": {
        "id": "dsiDGBVF2xCu",
        "colab_type": "code",
        "colab": {
          "base_uri": "https://localhost:8080/",
          "height": 177
        },
        "outputId": "d7d0c6a3-11f7-48f9-ce09-19266f0edd95"
      },
      "source": [
        "# モデルの初期化\n",
        "torch.manual_seed(0)\n",
        "\n",
        "# モデルのインスタンス化とデバイスへの転送\n",
        "net = Net().to(device)\n",
        "\n",
        "# 最適化手法の選択\n",
        "optimizer = torch.optim.SGD(net.parameters(),lr=0.1)\n",
        "\n",
        "for epoch in range(max_epoch):\n",
        "  for batch in train_loader:\n",
        "\n",
        "    x,t = batch\n",
        "    x = x.to(device)\n",
        "    t = t.to(device)\n",
        "    optimizer.zero_grad()\n",
        "    y = net(x)\n",
        "    loss = criterion(y,t)\n",
        "\n",
        "    # New : 正解率の算出\n",
        "    y_label = torch.argmax(y, dim=1)\n",
        "    acc = torch.sum(y_label == t) * 1.0 / len(t)\n",
        "    print(\"accuracy\", acc)\n",
        "\n",
        "    loss.backward()\n",
        "    optimizer.step()"
      ],
      "execution_count": 69,
      "outputs": [
        {
          "output_type": "stream",
          "text": [
            "accuracy tensor(0.2000, device='cuda:0')\n",
            "accuracy tensor(0.6000, device='cuda:0')\n",
            "accuracy tensor(0.4000, device='cuda:0')\n",
            "accuracy tensor(0.3000, device='cuda:0')\n",
            "accuracy tensor(0.1000, device='cuda:0')\n",
            "accuracy tensor(0.3000, device='cuda:0')\n",
            "accuracy tensor(0.4000, device='cuda:0')\n",
            "accuracy tensor(0.5000, device='cuda:0')\n",
            "accuracy tensor(0.5000, device='cuda:0')\n"
          ],
          "name": "stdout"
        }
      ]
    },
    {
      "cell_type": "code",
      "metadata": {
        "id": "YNIIP60c4K6v",
        "colab_type": "code",
        "colab": {}
      },
      "source": [
        "# 正解率の計算\n",
        "def calc_acc(data_loader):\n",
        "  with torch.no_grad():\n",
        "    accs = []\n",
        "    for batch in data_loader:\n",
        "      x, t = batch\n",
        "      x = x.to(device)\n",
        "      t = t.to(device)\n",
        "      y = net(x)\n",
        "\n",
        "      y_label = torch.argmax(y, dim=1)\n",
        "      acc = torch.sum(y_label == t) * 1.0 / len(t)\n",
        "      accs.append(acc)\n",
        "  # 全体の平均を算出\n",
        "  avg_acc = torch.tensor(accs).mean()\n",
        "  print(\"Accuracy: {:.1f}%\".format(avg_acc * 100))\n",
        "\n",
        "  return avg_acc"
      ],
      "execution_count": 0,
      "outputs": []
    },
    {
      "cell_type": "code",
      "metadata": {
        "id": "cmyCfrPw5VhA",
        "colab_type": "code",
        "colab": {
          "base_uri": "https://localhost:8080/",
          "height": 52
        },
        "outputId": "93331594-767c-48dc-a518-149c53a0cdcb"
      },
      "source": [
        "# 検証データで確認\n",
        "calc_acc(val_loader)"
      ],
      "execution_count": 71,
      "outputs": [
        {
          "output_type": "stream",
          "text": [
            "Accuracy: 43.3%\n"
          ],
          "name": "stdout"
        },
        {
          "output_type": "execute_result",
          "data": {
            "text/plain": [
              "tensor(0.4333)"
            ]
          },
          "metadata": {
            "tags": []
          },
          "execution_count": 71
        }
      ]
    },
    {
      "cell_type": "code",
      "metadata": {
        "id": "VltpZvfD5ZCa",
        "colab_type": "code",
        "colab": {
          "base_uri": "https://localhost:8080/",
          "height": 52
        },
        "outputId": "4b2d0bbe-185e-4c7e-de2c-ec7da2ab2d80"
      },
      "source": [
        "# テストデータで確認\n",
        "calc_acc(test_loader)"
      ],
      "execution_count": 72,
      "outputs": [
        {
          "output_type": "stream",
          "text": [
            "Accuracy: 33.3%\n"
          ],
          "name": "stdout"
        },
        {
          "output_type": "execute_result",
          "data": {
            "text/plain": [
              "tensor(0.3333)"
            ]
          },
          "metadata": {
            "tags": []
          },
          "execution_count": 72
        }
      ]
    },
    {
      "cell_type": "code",
      "metadata": {
        "id": "k1AMYI1J5d_0",
        "colab_type": "code",
        "colab": {}
      },
      "source": [
        ""
      ],
      "execution_count": 0,
      "outputs": []
    }
  ]
}