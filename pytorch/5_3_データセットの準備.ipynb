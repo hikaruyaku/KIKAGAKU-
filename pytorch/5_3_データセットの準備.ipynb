{
  "nbformat": 4,
  "nbformat_minor": 0,
  "metadata": {
    "colab": {
      "name": "5-3. データセットの準備.ipynb",
      "provenance": [],
      "authorship_tag": "ABX9TyMmGXobYRIix90sCnL/fVlF",
      "include_colab_link": true
    },
    "kernelspec": {
      "name": "python3",
      "display_name": "Python 3"
    },
    "accelerator": "GPU"
  },
  "cells": [
    {
      "cell_type": "markdown",
      "metadata": {
        "id": "view-in-github",
        "colab_type": "text"
      },
      "source": [
        "<a href=\"https://colab.research.google.com/github/hikaruyaku/KIKAGAKU-/blob/master/5_3_%E3%83%87%E3%83%BC%E3%82%BF%E3%82%BB%E3%83%83%E3%83%88%E3%81%AE%E6%BA%96%E5%82%99.ipynb\" target=\"_parent\"><img src=\"https://colab.research.google.com/assets/colab-badge.svg\" alt=\"Open In Colab\"/></a>"
      ]
    },
    {
      "cell_type": "markdown",
      "metadata": {
        "id": "gUVmW0bvVOPK"
      },
      "source": [
        "# データセットの準備"
      ]
    },
    {
      "cell_type": "markdown",
      "metadata": {
        "id": "d6AzWHxZVRgh"
      },
      "source": [
        "### 1. データセットの読み込み"
      ]
    },
    {
      "cell_type": "code",
      "metadata": {
        "colab": {
          "base_uri": "https://localhost:8080/",
          "height": 35
        },
        "id": "bwenAUDAVBgj",
        "outputId": "5d90433d-b968-48ff-970d-fd58c6710b0b"
      },
      "source": [
        "import torch\r\n",
        "import torch.nn as nn\r\n",
        "import torch.nn.functional as F\r\n",
        "torch.__version__"
      ],
      "execution_count": 2,
      "outputs": [
        {
          "output_type": "execute_result",
          "data": {
            "application/vnd.google.colaboratory.intrinsic+json": {
              "type": "string"
            },
            "text/plain": [
              "'1.7.0+cu101'"
            ]
          },
          "metadata": {
            "tags": []
          },
          "execution_count": 2
        }
      ]
    },
    {
      "cell_type": "code",
      "metadata": {
        "colab": {
          "base_uri": "https://localhost:8080/",
          "height": 35
        },
        "id": "tgYOle40VedC",
        "outputId": "f66d5b4c-0b2c-455c-9c9f-bececbfdaf92"
      },
      "source": [
        "import sklearn\r\n",
        "sklearn.__version__"
      ],
      "execution_count": 3,
      "outputs": [
        {
          "output_type": "execute_result",
          "data": {
            "application/vnd.google.colaboratory.intrinsic+json": {
              "type": "string"
            },
            "text/plain": [
              "'0.22.2.post1'"
            ]
          },
          "metadata": {
            "tags": []
          },
          "execution_count": 3
        }
      ]
    },
    {
      "cell_type": "code",
      "metadata": {
        "id": "2y4WX-RoVlgQ"
      },
      "source": [
        "from sklearn.datasets import load_breast_cancer"
      ],
      "execution_count": 4,
      "outputs": []
    },
    {
      "cell_type": "code",
      "metadata": {
        "id": "GNb4jDqGVpq5"
      },
      "source": [
        "# データセットの読込\r\n",
        "breast_cancer = load_breast_cancer()"
      ],
      "execution_count": 5,
      "outputs": []
    },
    {
      "cell_type": "code",
      "metadata": {
        "id": "-6HFrq3iVxJ3"
      },
      "source": [
        "# 入力値と目標値を抽出\r\n",
        "x = breast_cancer['data']\r\n",
        "t = breast_cancer['target']"
      ],
      "execution_count": 6,
      "outputs": []
    },
    {
      "cell_type": "code",
      "metadata": {
        "colab": {
          "base_uri": "https://localhost:8080/"
        },
        "id": "7jc7cmQSV4BN",
        "outputId": "eae2e09d-4373-4f1c-c03c-db1b06bdacf5"
      },
      "source": [
        "x.shape"
      ],
      "execution_count": 7,
      "outputs": [
        {
          "output_type": "execute_result",
          "data": {
            "text/plain": [
              "(569, 30)"
            ]
          },
          "metadata": {
            "tags": []
          },
          "execution_count": 7
        }
      ]
    },
    {
      "cell_type": "code",
      "metadata": {
        "colab": {
          "base_uri": "https://localhost:8080/"
        },
        "id": "-lpYqtpeV49b",
        "outputId": "5cbfd1c5-bce8-4684-fdda-147a07015f16"
      },
      "source": [
        "t.shape"
      ],
      "execution_count": 8,
      "outputs": [
        {
          "output_type": "execute_result",
          "data": {
            "text/plain": [
              "(569,)"
            ]
          },
          "metadata": {
            "tags": []
          },
          "execution_count": 8
        }
      ]
    },
    {
      "cell_type": "code",
      "metadata": {
        "colab": {
          "base_uri": "https://localhost:8080/"
        },
        "id": "oHoe7Ey4V5lj",
        "outputId": "bd97dee1-a66d-40e4-fad3-d5e7432c7294"
      },
      "source": [
        "type(x),type(t)"
      ],
      "execution_count": 9,
      "outputs": [
        {
          "output_type": "execute_result",
          "data": {
            "text/plain": [
              "(numpy.ndarray, numpy.ndarray)"
            ]
          },
          "metadata": {
            "tags": []
          },
          "execution_count": 9
        }
      ]
    },
    {
      "cell_type": "code",
      "metadata": {
        "id": "JEYi3PmDV7RL"
      },
      "source": [
        "# ndaary -> Tensor\r\n",
        "x = torch.tensor(x, dtype = torch.float32)\r\n",
        "t = torch.tensor(t, dtype = torch.int64)"
      ],
      "execution_count": 11,
      "outputs": []
    },
    {
      "cell_type": "code",
      "metadata": {
        "colab": {
          "base_uri": "https://localhost:8080/"
        },
        "id": "vArVRouZV-tK",
        "outputId": "ad3aa55a-106c-4ecf-b407-60522fc6fe90"
      },
      "source": [
        "type(x),type(t)"
      ],
      "execution_count": 12,
      "outputs": [
        {
          "output_type": "execute_result",
          "data": {
            "text/plain": [
              "(torch.Tensor, torch.Tensor)"
            ]
          },
          "metadata": {
            "tags": []
          },
          "execution_count": 12
        }
      ]
    },
    {
      "cell_type": "code",
      "metadata": {
        "colab": {
          "base_uri": "https://localhost:8080/"
        },
        "id": "WpNneNvMWQPS",
        "outputId": "b7c20e5c-0451-47be-dd55-55e03bb931d4"
      },
      "source": [
        "x.dtype,t.dtype"
      ],
      "execution_count": 13,
      "outputs": [
        {
          "output_type": "execute_result",
          "data": {
            "text/plain": [
              "(torch.float32, torch.int64)"
            ]
          },
          "metadata": {
            "tags": []
          },
          "execution_count": 13
        }
      ]
    },
    {
      "cell_type": "code",
      "metadata": {
        "colab": {
          "base_uri": "https://localhost:8080/"
        },
        "id": "K4sIpgB7WR8w",
        "outputId": "a500a8c6-9fdb-42ad-9732-4ae772d4d0ef"
      },
      "source": [
        "x.shape, t.shape"
      ],
      "execution_count": 14,
      "outputs": [
        {
          "output_type": "execute_result",
          "data": {
            "text/plain": [
              "(torch.Size([569, 30]), torch.Size([569]))"
            ]
          },
          "metadata": {
            "tags": []
          },
          "execution_count": 14
        }
      ]
    },
    {
      "cell_type": "markdown",
      "metadata": {
        "id": "6X8XpeR8WZNv"
      },
      "source": [
        "- 入力値：`float32`\r\n",
        "- 目標値\r\n",
        "  - 回帰: `float32`\r\n",
        "  - 二値分類:`float32`\r\n",
        "  - 多値分類:`int64`"
      ]
    },
    {
      "cell_type": "markdown",
      "metadata": {
        "id": "ee7HboVGWomb"
      },
      "source": [
        "### 2. DataLoader"
      ]
    },
    {
      "cell_type": "code",
      "metadata": {
        "colab": {
          "base_uri": "https://localhost:8080/"
        },
        "id": "PBpA163YWUo6",
        "outputId": "ce1d726e-c1d1-4e22-8cb9-a4e01387305d"
      },
      "source": [
        "# 入力値と目標値を dataset としてまとめる\r\n",
        "dataset = torch.utils.data.TensorDataset(x,t)\r\n",
        "dataset"
      ],
      "execution_count": 15,
      "outputs": [
        {
          "output_type": "execute_result",
          "data": {
            "text/plain": [
              "<torch.utils.data.dataset.TensorDataset at 0x7f60cd30d240>"
            ]
          },
          "metadata": {
            "tags": []
          },
          "execution_count": 15
        }
      ]
    },
    {
      "cell_type": "code",
      "metadata": {
        "colab": {
          "base_uri": "https://localhost:8080/"
        },
        "id": "ozxCvB4KW75K",
        "outputId": "761b9b2c-12b1-4bb8-9659-38de4e060f35"
      },
      "source": [
        "type(dataset)"
      ],
      "execution_count": 16,
      "outputs": [
        {
          "output_type": "execute_result",
          "data": {
            "text/plain": [
              "torch.utils.data.dataset.TensorDataset"
            ]
          },
          "metadata": {
            "tags": []
          },
          "execution_count": 16
        }
      ]
    },
    {
      "cell_type": "code",
      "metadata": {
        "colab": {
          "base_uri": "https://localhost:8080/"
        },
        "id": "YrWyyfQ_W9aA",
        "outputId": "a0d1b948-3224-4a39-8438-49d278db0d8a"
      },
      "source": [
        "dataset[0]"
      ],
      "execution_count": 17,
      "outputs": [
        {
          "output_type": "execute_result",
          "data": {
            "text/plain": [
              "(tensor([1.7990e+01, 1.0380e+01, 1.2280e+02, 1.0010e+03, 1.1840e-01, 2.7760e-01,\n",
              "         3.0010e-01, 1.4710e-01, 2.4190e-01, 7.8710e-02, 1.0950e+00, 9.0530e-01,\n",
              "         8.5890e+00, 1.5340e+02, 6.3990e-03, 4.9040e-02, 5.3730e-02, 1.5870e-02,\n",
              "         3.0030e-02, 6.1930e-03, 2.5380e+01, 1.7330e+01, 1.8460e+02, 2.0190e+03,\n",
              "         1.6220e-01, 6.6560e-01, 7.1190e-01, 2.6540e-01, 4.6010e-01, 1.1890e-01]),\n",
              " tensor(0))"
            ]
          },
          "metadata": {
            "tags": []
          },
          "execution_count": 17
        }
      ]
    },
    {
      "cell_type": "code",
      "metadata": {
        "colab": {
          "base_uri": "https://localhost:8080/"
        },
        "id": "rQg5GJeWW-mh",
        "outputId": "ad25dba7-b182-46d7-8565-33d8b0851123"
      },
      "source": [
        "dataset[0][0]"
      ],
      "execution_count": 18,
      "outputs": [
        {
          "output_type": "execute_result",
          "data": {
            "text/plain": [
              "tensor([1.7990e+01, 1.0380e+01, 1.2280e+02, 1.0010e+03, 1.1840e-01, 2.7760e-01,\n",
              "        3.0010e-01, 1.4710e-01, 2.4190e-01, 7.8710e-02, 1.0950e+00, 9.0530e-01,\n",
              "        8.5890e+00, 1.5340e+02, 6.3990e-03, 4.9040e-02, 5.3730e-02, 1.5870e-02,\n",
              "        3.0030e-02, 6.1930e-03, 2.5380e+01, 1.7330e+01, 1.8460e+02, 2.0190e+03,\n",
              "        1.6220e-01, 6.6560e-01, 7.1190e-01, 2.6540e-01, 4.6010e-01, 1.1890e-01])"
            ]
          },
          "metadata": {
            "tags": []
          },
          "execution_count": 18
        }
      ]
    },
    {
      "cell_type": "code",
      "metadata": {
        "colab": {
          "base_uri": "https://localhost:8080/"
        },
        "id": "GPDHsh8HXCq7",
        "outputId": "9906274b-fc85-4a25-948a-631fb4e30c4e"
      },
      "source": [
        "dataset[0][1]"
      ],
      "execution_count": 19,
      "outputs": [
        {
          "output_type": "execute_result",
          "data": {
            "text/plain": [
              "tensor(0)"
            ]
          },
          "metadata": {
            "tags": []
          },
          "execution_count": 19
        }
      ]
    },
    {
      "cell_type": "markdown",
      "metadata": {
        "id": "OjvkgV5_XH3C"
      },
      "source": [
        "- 訓練データ  : ネットワークのパラメータの最適化\r\n",
        "- 検証データ  : ネットワークが持つハイパーパラメーターの最適化\r\n",
        "- テストデータ:訓練済みネットワークの評価"
      ]
    },
    {
      "cell_type": "code",
      "metadata": {
        "colab": {
          "base_uri": "https://localhost:8080/"
        },
        "id": "jViuC9oIXEnN",
        "outputId": "2a7fbead-57e0-4a69-806b-efc032f8b771"
      },
      "source": [
        "# 各データセットのサンプル数を決定\r\n",
        "# train; val:test = 60% : 20% : 20%\r\n",
        "n_train = int(len(dataset) *0.6)\r\n",
        "n_val = int(len(dataset)*0.2)\r\n",
        "n_test = len(dataset) - n_train - n_val\r\n",
        "n_train,n_val,n_test"
      ],
      "execution_count": 26,
      "outputs": [
        {
          "output_type": "execute_result",
          "data": {
            "text/plain": [
              "(341, 113, 115)"
            ]
          },
          "metadata": {
            "tags": []
          },
          "execution_count": 26
        }
      ]
    },
    {
      "cell_type": "code",
      "metadata": {
        "colab": {
          "base_uri": "https://localhost:8080/"
        },
        "id": "GOp-ZSoJXqcI",
        "outputId": "57f2f320-0da8-484e-de51-1bfd9b4a91bf"
      },
      "source": [
        "# ランダムに分割を行う為，シードを固定して再現性を確保する。\r\n",
        "torch.manual_seed(0)"
      ],
      "execution_count": 27,
      "outputs": [
        {
          "output_type": "execute_result",
          "data": {
            "text/plain": [
              "<torch._C.Generator at 0x7f6133621bb8>"
            ]
          },
          "metadata": {
            "tags": []
          },
          "execution_count": 27
        }
      ]
    },
    {
      "cell_type": "code",
      "metadata": {
        "id": "k0MgzrYdYFCn"
      },
      "source": [
        "# データセットの分割\r\n",
        "train,val,test = torch.utils.data.random_split(dataset,[n_train,n_val,n_test])"
      ],
      "execution_count": 28,
      "outputs": []
    },
    {
      "cell_type": "code",
      "metadata": {
        "colab": {
          "base_uri": "https://localhost:8080/"
        },
        "id": "NFImWhGBYQ_d",
        "outputId": "5a853c94-419f-401c-d7d5-276a6a26c6c3"
      },
      "source": [
        "len(train),len(val),len(test)"
      ],
      "execution_count": 29,
      "outputs": [
        {
          "output_type": "execute_result",
          "data": {
            "text/plain": [
              "(341, 113, 115)"
            ]
          },
          "metadata": {
            "tags": []
          },
          "execution_count": 29
        }
      ]
    },
    {
      "cell_type": "code",
      "metadata": {
        "id": "ngLmCRhTYTjD"
      },
      "source": [
        "# バッチサイズ\r\n",
        "batch_size = 10"
      ],
      "execution_count": 30,
      "outputs": []
    },
    {
      "cell_type": "code",
      "metadata": {
        "id": "iBKuAQ7rYxRi"
      },
      "source": [
        "train_loader = torch.utils.data.DataLoader(train,batch_size,shuffle=True,drop_last=True)\r\n",
        "val_loader = torch.utils.data.DataLoader(val, batch_size,shuffle=True,drop_last=True)\r\n",
        "test_loader = torch.utils.data.DataLoader(test, batch_size,shuffle=True,drop_last=True)"
      ],
      "execution_count": 32,
      "outputs": []
    },
    {
      "cell_type": "code",
      "metadata": {
        "id": "F8rnt-YhZIaO"
      },
      "source": [
        "x,t = next(iter(train_loader))"
      ],
      "execution_count": 33,
      "outputs": []
    },
    {
      "cell_type": "code",
      "metadata": {
        "colab": {
          "base_uri": "https://localhost:8080/"
        },
        "id": "gfGxTSyPZZgN",
        "outputId": "50455d39-cb8c-4195-d00b-3b415da93cf7"
      },
      "source": [
        "x.shape"
      ],
      "execution_count": 34,
      "outputs": [
        {
          "output_type": "execute_result",
          "data": {
            "text/plain": [
              "torch.Size([10, 30])"
            ]
          },
          "metadata": {
            "tags": []
          },
          "execution_count": 34
        }
      ]
    },
    {
      "cell_type": "code",
      "metadata": {
        "colab": {
          "base_uri": "https://localhost:8080/"
        },
        "id": "dgs3U0HHZaru",
        "outputId": "8a523711-257a-423e-f30b-cfd6466c6998"
      },
      "source": [
        "t.shape"
      ],
      "execution_count": 35,
      "outputs": [
        {
          "output_type": "execute_result",
          "data": {
            "text/plain": [
              "torch.Size([10])"
            ]
          },
          "metadata": {
            "tags": []
          },
          "execution_count": 35
        }
      ]
    },
    {
      "cell_type": "code",
      "metadata": {
        "colab": {
          "base_uri": "https://localhost:8080/"
        },
        "id": "cX05EP8-ZcEh",
        "outputId": "efa92856-e73c-4bd9-e12c-0871404307c1"
      },
      "source": [
        "x"
      ],
      "execution_count": 36,
      "outputs": [
        {
          "output_type": "execute_result",
          "data": {
            "text/plain": [
              "tensor([[1.1700e+01, 1.9110e+01, 7.4330e+01, 4.1870e+02, 8.8140e-02, 5.2530e-02,\n",
              "         1.5830e-02, 1.1480e-02, 1.9360e-01, 6.1280e-02, 1.6010e-01, 1.4300e+00,\n",
              "         1.1090e+00, 1.1280e+01, 6.0640e-03, 9.1100e-03, 1.0420e-02, 7.6380e-03,\n",
              "         2.3490e-02, 1.6610e-03, 1.2610e+01, 2.6550e+01, 8.0920e+01, 4.8310e+02,\n",
              "         1.2230e-01, 1.0870e-01, 7.9150e-02, 5.7410e-02, 3.4870e-01, 6.9580e-02],\n",
              "        [1.0860e+01, 2.1480e+01, 6.8510e+01, 3.6050e+02, 7.4310e-02, 4.2270e-02,\n",
              "         0.0000e+00, 0.0000e+00, 1.6610e-01, 5.9480e-02, 3.1630e-01, 1.3040e+00,\n",
              "         2.1150e+00, 2.0670e+01, 9.5790e-03, 1.1040e-02, 0.0000e+00, 0.0000e+00,\n",
              "         3.0040e-02, 2.2280e-03, 1.1660e+01, 2.4770e+01, 7.4080e+01, 4.1230e+02,\n",
              "         1.0010e-01, 7.3480e-02, 0.0000e+00, 0.0000e+00, 2.4580e-01, 6.5920e-02],\n",
              "        [1.3650e+01, 1.3160e+01, 8.7880e+01, 5.6890e+02, 9.6460e-02, 8.7110e-02,\n",
              "         3.8880e-02, 2.5630e-02, 1.3600e-01, 6.3440e-02, 2.1020e-01, 4.3360e-01,\n",
              "         1.3910e+00, 1.7400e+01, 4.1330e-03, 1.6950e-02, 1.6520e-02, 6.6590e-03,\n",
              "         1.3710e-02, 2.7350e-03, 1.5340e+01, 1.6350e+01, 9.9710e+01, 7.0620e+02,\n",
              "         1.3110e-01, 2.4740e-01, 1.7590e-01, 8.0560e-02, 2.3800e-01, 8.7180e-02],\n",
              "        [1.6160e+01, 2.1540e+01, 1.0620e+02, 8.0980e+02, 1.0080e-01, 1.2840e-01,\n",
              "         1.0430e-01, 5.6130e-02, 2.1600e-01, 5.8910e-02, 4.3320e-01, 1.2650e+00,\n",
              "         2.8440e+00, 4.3680e+01, 4.8770e-03, 1.9520e-02, 2.2190e-02, 9.2310e-03,\n",
              "         1.5350e-02, 2.3730e-03, 1.9470e+01, 3.1680e+01, 1.2970e+02, 1.1750e+03,\n",
              "         1.3950e-01, 3.0550e-01, 2.9920e-01, 1.3120e-01, 3.4800e-01, 7.6190e-02],\n",
              "        [1.3010e+01, 2.2220e+01, 8.2010e+01, 5.2640e+02, 6.2510e-02, 1.9380e-02,\n",
              "         1.5950e-03, 1.8520e-03, 1.3950e-01, 5.2340e-02, 1.7310e-01, 1.1420e+00,\n",
              "         1.1010e+00, 1.4340e+01, 3.4180e-03, 2.2520e-03, 1.5950e-03, 1.8520e-03,\n",
              "         1.6130e-02, 9.6830e-04, 1.4000e+01, 2.9020e+01, 8.8180e+01, 6.0880e+02,\n",
              "         8.1250e-02, 3.4320e-02, 7.9770e-03, 9.2590e-03, 2.2950e-01, 5.8430e-02],\n",
              "        [1.5370e+01, 2.2760e+01, 1.0020e+02, 7.2820e+02, 9.2000e-02, 1.0360e-01,\n",
              "         1.1220e-01, 7.4830e-02, 1.7170e-01, 6.0970e-02, 3.1290e-01, 8.4130e-01,\n",
              "         2.0750e+00, 2.9440e+01, 9.8820e-03, 2.4440e-02, 4.5310e-02, 1.7630e-02,\n",
              "         2.4710e-02, 2.1420e-03, 1.6430e+01, 2.5840e+01, 1.0750e+02, 8.3090e+02,\n",
              "         1.2570e-01, 1.9970e-01, 2.8460e-01, 1.4760e-01, 2.5560e-01, 6.8280e-02],\n",
              "        [1.7850e+01, 1.3230e+01, 1.1460e+02, 9.9210e+02, 7.8380e-02, 6.2170e-02,\n",
              "         4.4450e-02, 4.1780e-02, 1.2200e-01, 5.2430e-02, 4.8340e-01, 1.0460e+00,\n",
              "         3.1630e+00, 5.0950e+01, 4.3690e-03, 8.2740e-03, 1.1530e-02, 7.4370e-03,\n",
              "         1.3020e-02, 1.3090e-03, 1.9820e+01, 1.8420e+01, 1.2710e+02, 1.2100e+03,\n",
              "         9.8620e-02, 9.9760e-02, 1.0480e-01, 8.3410e-02, 1.7830e-01, 5.8710e-02],\n",
              "        [1.9270e+01, 2.6470e+01, 1.2790e+02, 1.1620e+03, 9.4010e-02, 1.7190e-01,\n",
              "         1.6570e-01, 7.5930e-02, 1.8530e-01, 6.2610e-02, 5.5580e-01, 6.0620e-01,\n",
              "         3.5280e+00, 6.8170e+01, 5.0150e-03, 3.3180e-02, 3.4970e-02, 9.6430e-03,\n",
              "         1.5430e-02, 3.8960e-03, 2.4150e+01, 3.0900e+01, 1.6140e+02, 1.8130e+03,\n",
              "         1.5090e-01, 6.5900e-01, 6.0910e-01, 1.7850e-01, 3.6720e-01, 1.1230e-01],\n",
              "        [1.4220e+01, 2.7850e+01, 9.2550e+01, 6.2390e+02, 8.2230e-02, 1.0390e-01,\n",
              "         1.1030e-01, 4.4080e-02, 1.3420e-01, 6.1290e-02, 3.3540e-01, 2.3240e+00,\n",
              "         2.1050e+00, 2.9960e+01, 6.3070e-03, 2.8450e-02, 3.8500e-02, 1.0110e-02,\n",
              "         1.1850e-02, 3.5890e-03, 1.5750e+01, 4.0540e+01, 1.0250e+02, 7.6400e+02,\n",
              "         1.0810e-01, 2.4260e-01, 3.0640e-01, 8.2190e-02, 1.8900e-01, 7.7960e-02],\n",
              "        [1.7680e+01, 2.0740e+01, 1.1740e+02, 9.6370e+02, 1.1150e-01, 1.6650e-01,\n",
              "         1.8550e-01, 1.0540e-01, 1.9710e-01, 6.1660e-02, 8.1130e-01, 1.4000e+00,\n",
              "         5.5400e+00, 9.3910e+01, 9.0370e-03, 4.9540e-02, 5.2060e-02, 1.8410e-02,\n",
              "         1.7780e-02, 4.9680e-03, 2.0470e+01, 2.5110e+01, 1.3290e+02, 1.3020e+03,\n",
              "         1.4180e-01, 3.4980e-01, 3.5830e-01, 1.5150e-01, 2.4630e-01, 7.7380e-02]])"
            ]
          },
          "metadata": {
            "tags": []
          },
          "execution_count": 36
        }
      ]
    },
    {
      "cell_type": "code",
      "metadata": {
        "colab": {
          "base_uri": "https://localhost:8080/"
        },
        "id": "zVgU3aM4Zc5f",
        "outputId": "413828b5-9229-4030-88d5-56e91d70d055"
      },
      "source": [
        "t"
      ],
      "execution_count": 37,
      "outputs": [
        {
          "output_type": "execute_result",
          "data": {
            "text/plain": [
              "tensor([1, 1, 1, 0, 1, 0, 1, 0, 1, 0])"
            ]
          },
          "metadata": {
            "tags": []
          },
          "execution_count": 37
        }
      ]
    },
    {
      "cell_type": "code",
      "metadata": {
        "id": "hnAaLTgWZeBJ"
      },
      "source": [
        ""
      ],
      "execution_count": null,
      "outputs": []
    }
  ]
}
