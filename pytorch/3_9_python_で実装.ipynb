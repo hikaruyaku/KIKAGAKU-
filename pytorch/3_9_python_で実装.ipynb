{
  "nbformat": 4,
  "nbformat_minor": 0,
  "metadata": {
    "colab": {
      "name": "3-9_python で実装.ipynb のコピー",
      "provenance": [],
      "authorship_tag": "ABX9TyMMbLKvsz2OmITbsR6QWl7v",
      "include_colab_link": true
    },
    "kernelspec": {
      "name": "python3",
      "display_name": "Python 3"
    }
  },
  "cells": [
    {
      "cell_type": "markdown",
      "metadata": {
        "id": "view-in-github",
        "colab_type": "text"
      },
      "source": [
        "<a href=\"https://colab.research.google.com/github/hikaruyaku/KIKAGAKU-/blob/master/3_9_python_%E3%81%A7%E5%AE%9F%E8%A3%85.ipynb\" target=\"_parent\"><img src=\"https://colab.research.google.com/assets/colab-badge.svg\" alt=\"Open In Colab\"/></a>"
      ]
    },
    {
      "cell_type": "markdown",
      "metadata": {
        "id": "3-NdrCplYpKC"
      },
      "source": [
        "# `python` で実装\r\n",
        "## `scikit-learn`"
      ]
    },
    {
      "cell_type": "code",
      "metadata": {
        "colab": {
          "base_uri": "https://localhost:8080/",
          "height": 35
        },
        "id": "Is9PvkZqYQt7",
        "outputId": "e31ee40d-f0e3-43df-f8c1-4b5bcff25be2"
      },
      "source": [
        "# ライブラリの読込\r\n",
        "import sklearn\r\n",
        "# version の確認\r\n",
        "sklearn.__version__"
      ],
      "execution_count": null,
      "outputs": [
        {
          "output_type": "execute_result",
          "data": {
            "application/vnd.google.colaboratory.intrinsic+json": {
              "type": "string"
            },
            "text/plain": [
              "'0.22.2.post1'"
            ]
          },
          "metadata": {
            "tags": []
          },
          "execution_count": 1
        }
      ]
    },
    {
      "cell_type": "code",
      "metadata": {
        "id": "SvUjrdNYY3GQ"
      },
      "source": [
        "# データセットの読込\r\n",
        "from sklearn.datasets import load_breast_cancer"
      ],
      "execution_count": null,
      "outputs": []
    },
    {
      "cell_type": "code",
      "metadata": {
        "id": "NRxCbx8QZF0E"
      },
      "source": [
        "# データセットの読込\r\n",
        "breast_cancer = load_breast_cancer()\r\n",
        "\r\n",
        "# 入力値と目標値の抽出\r\n",
        "x = breast_cancer['data']\r\n",
        "t = breast_cancer['target']"
      ],
      "execution_count": null,
      "outputs": []
    },
    {
      "cell_type": "code",
      "metadata": {
        "colab": {
          "base_uri": "https://localhost:8080/"
        },
        "id": "dra0qbU5ZRNo",
        "outputId": "e298e941-0edf-4c87-c872-eb269c716890"
      },
      "source": [
        "# サイズの確認\r\n",
        "x.shape"
      ],
      "execution_count": null,
      "outputs": [
        {
          "output_type": "execute_result",
          "data": {
            "text/plain": [
              "(569, 30)"
            ]
          },
          "metadata": {
            "tags": []
          },
          "execution_count": 4
        }
      ]
    },
    {
      "cell_type": "code",
      "metadata": {
        "colab": {
          "base_uri": "https://localhost:8080/"
        },
        "id": "xGdI2Nw5ZVX_",
        "outputId": "ecf9e8ff-d92f-47f5-cb59-8ab99f90b28a"
      },
      "source": [
        "# 0 が悪性，1 が良性\r\n",
        "t.shape"
      ],
      "execution_count": null,
      "outputs": [
        {
          "output_type": "execute_result",
          "data": {
            "text/plain": [
              "(569,)"
            ]
          },
          "metadata": {
            "tags": []
          },
          "execution_count": 5
        }
      ]
    },
    {
      "cell_type": "code",
      "metadata": {
        "colab": {
          "base_uri": "https://localhost:8080/"
        },
        "id": "Wia1EAHfZamY",
        "outputId": "002ae6c1-5689-4ced-8a98-306fc8dadab5"
      },
      "source": [
        "type(t)"
      ],
      "execution_count": null,
      "outputs": [
        {
          "output_type": "execute_result",
          "data": {
            "text/plain": [
              "numpy.ndarray"
            ]
          },
          "metadata": {
            "tags": []
          },
          "execution_count": 6
        }
      ]
    },
    {
      "cell_type": "code",
      "metadata": {
        "colab": {
          "base_uri": "https://localhost:8080/"
        },
        "id": "gjErMMD2ZrA0",
        "outputId": "91dfddf4-c040-48f5-da3a-70b28c557074"
      },
      "source": [
        "type(x)"
      ],
      "execution_count": null,
      "outputs": [
        {
          "output_type": "execute_result",
          "data": {
            "text/plain": [
              "numpy.ndarray"
            ]
          },
          "metadata": {
            "tags": []
          },
          "execution_count": 7
        }
      ]
    },
    {
      "cell_type": "code",
      "metadata": {
        "colab": {
          "base_uri": "https://localhost:8080/"
        },
        "id": "WhQvPsfZZsx6",
        "outputId": "c4bd2e97-86cf-40a0-d035-89de03a7596a"
      },
      "source": [
        "# 悪性の人数\r\n",
        "(t == 0).sum()"
      ],
      "execution_count": null,
      "outputs": [
        {
          "output_type": "execute_result",
          "data": {
            "text/plain": [
              "212"
            ]
          },
          "metadata": {
            "tags": []
          },
          "execution_count": 8
        }
      ]
    },
    {
      "cell_type": "code",
      "metadata": {
        "colab": {
          "base_uri": "https://localhost:8080/"
        },
        "id": "cRpQDiaQZulN",
        "outputId": "6335ae24-0957-43a2-8966-009c78fc575f"
      },
      "source": [
        "# 良性の人数\r\n",
        "(t ==1).sum()"
      ],
      "execution_count": null,
      "outputs": [
        {
          "output_type": "execute_result",
          "data": {
            "text/plain": [
              "357"
            ]
          },
          "metadata": {
            "tags": []
          },
          "execution_count": 9
        }
      ]
    },
    {
      "cell_type": "markdown",
      "metadata": {
        "id": "kxZwwcE4aIZI"
      },
      "source": [
        "## 不均衡データ(imblanced data)"
      ]
    },
    {
      "cell_type": "markdown",
      "metadata": {
        "id": "25kzSNzgacKC"
      },
      "source": [
        "# 訓練データとテストデータに分割"
      ]
    },
    {
      "cell_type": "code",
      "metadata": {
        "id": "zYBpqopBZ9LQ"
      },
      "source": [
        "from sklearn.model_selection import train_test_split"
      ],
      "execution_count": null,
      "outputs": []
    },
    {
      "cell_type": "code",
      "metadata": {
        "id": "11IVK8TLaa2f"
      },
      "source": [
        "x_train,x_test,t_train,t_test = train_test_split(x,t, train_size=0.7, random_state=0)"
      ],
      "execution_count": null,
      "outputs": []
    },
    {
      "cell_type": "code",
      "metadata": {
        "colab": {
          "base_uri": "https://localhost:8080/"
        },
        "id": "TLdozrMbblhQ",
        "outputId": "67a55ee3-8c2f-49d7-9e8a-c151952cca42"
      },
      "source": [
        "# 入力値/目標値のサイズを確認\r\n",
        "print('x_train shape:', x_train.shape)\r\n",
        "print('x_test shape :', x_test.shape)\r\n",
        "print('t_train shape:', t_train.shape)\r\n",
        "print('t_test shape :,', t_train.shape)"
      ],
      "execution_count": null,
      "outputs": [
        {
          "output_type": "stream",
          "text": [
            "x_train shape: (398, 30)\n",
            "x_test shape : (171, 30)\n",
            "t_train shape: (398,)\n",
            "t_test shape :, (398,)\n"
          ],
          "name": "stdout"
        }
      ]
    },
    {
      "cell_type": "markdown",
      "metadata": {
        "id": "G2JwJ8udfCxR"
      },
      "source": [
        "### モデルの訓練とテスト\r\n",
        "\r\n",
        "- `LogisticRegression` ← 改良されている\r\n",
        "- `SGDClassifier` ← こちらを用いる\r\n",
        "\r\n",
        "**確立的勾配降下法(SGD: stochastic gradient descent)**\r\n",
        "\r\n",
        "勾配降下法\r\n",
        "\r\n",
        "$$\r\n",
        "\\begin{aligned}\r\n",
        "{\\bf w}^{(k+1)} \r\n",
        "&= {\\bf w}^{(k)} - \\rho \\dfrac{\\partial}{\\partial {\\bf w}} L({\\bf w}^{(k)}) \\\\\r\n",
        "&= {\\bf w}^{(k)} - \\rho \\sum_{n=1}^{N} \\dfrac{\\partial L_{n}}{\\partial {\\bf w}}\r\n",
        "\\end{aligned}\r\n",
        "$$\r\n",
        "\r\n",
        "確立的勾配降下法\r\n",
        "$$\r\n",
        "{\\bf w}^{(k+1)} \r\n",
        "= {\\bf w}^{(k)} - \\rho \\sum_{n=1}^{N} \\dfrac{\\partial L_{n}}{\\partial {\\bf w}}\r\n",
        "$$\r\n",
        "\r\n",
        "ここで，$N_{b}$ はバッチサイズと呼びます。"
      ]
    },
    {
      "cell_type": "code",
      "metadata": {
        "id": "psWkQO-8cDbj"
      },
      "source": [
        "from sklearn.linear_model import SGDClassifier"
      ],
      "execution_count": null,
      "outputs": []
    },
    {
      "cell_type": "code",
      "metadata": {
        "colab": {
          "base_uri": "https://localhost:8080/"
        },
        "id": "3Qzre6g0XLw_",
        "outputId": "65dcda32-ed6c-49c9-cc13-891563e447a6"
      },
      "source": [
        "clf = SGDClassifier(loss='log', random_state=0)\r\n",
        "clf"
      ],
      "execution_count": null,
      "outputs": [
        {
          "output_type": "execute_result",
          "data": {
            "text/plain": [
              "SGDClassifier(alpha=0.0001, average=False, class_weight=None,\n",
              "              early_stopping=False, epsilon=0.1, eta0=0.0, fit_intercept=True,\n",
              "              l1_ratio=0.15, learning_rate='optimal', loss='log', max_iter=1000,\n",
              "              n_iter_no_change=5, n_jobs=None, penalty='l2', power_t=0.5,\n",
              "              random_state=0, shuffle=True, tol=0.001, validation_fraction=0.1,\n",
              "              verbose=0, warm_start=False)"
            ]
          },
          "metadata": {
            "tags": []
          },
          "execution_count": 14
        }
      ]
    },
    {
      "cell_type": "code",
      "metadata": {
        "colab": {
          "base_uri": "https://localhost:8080/"
        },
        "id": "dS3NYEu1XURq",
        "outputId": "df63ebd8-82f2-4a90-93bc-a2a9b344a080"
      },
      "source": [
        "# モデルの訓練\r\n",
        "clf.fit(x_train,t_train)"
      ],
      "execution_count": null,
      "outputs": [
        {
          "output_type": "execute_result",
          "data": {
            "text/plain": [
              "SGDClassifier(alpha=0.0001, average=False, class_weight=None,\n",
              "              early_stopping=False, epsilon=0.1, eta0=0.0, fit_intercept=True,\n",
              "              l1_ratio=0.15, learning_rate='optimal', loss='log', max_iter=1000,\n",
              "              n_iter_no_change=5, n_jobs=None, penalty='l2', power_t=0.5,\n",
              "              random_state=0, shuffle=True, tol=0.001, validation_fraction=0.1,\n",
              "              verbose=0, warm_start=False)"
            ]
          },
          "metadata": {
            "tags": []
          },
          "execution_count": 16
        }
      ]
    },
    {
      "cell_type": "code",
      "metadata": {
        "colab": {
          "base_uri": "https://localhost:8080/"
        },
        "id": "9ULQYb9OXiQ_",
        "outputId": "c7ddb03e-4410-40c5-b5e1-9bb014472b8e"
      },
      "source": [
        "# 訓練データに対する正解率(accuracy)の確認\r\n",
        "clf.score(x_train,t_train)"
      ],
      "execution_count": null,
      "outputs": [
        {
          "output_type": "execute_result",
          "data": {
            "text/plain": [
              "0.6683417085427136"
            ]
          },
          "metadata": {
            "tags": []
          },
          "execution_count": 17
        }
      ]
    },
    {
      "cell_type": "code",
      "metadata": {
        "colab": {
          "base_uri": "https://localhost:8080/"
        },
        "id": "0HFGHhmwXsdo",
        "outputId": "9603446f-13a4-4563-e5c1-240cd5f0d59f"
      },
      "source": [
        "# テストデータに対する正解率(accuracy)の確認\r\n",
        "clf.score(x_test,t_test)"
      ],
      "execution_count": null,
      "outputs": [
        {
          "output_type": "execute_result",
          "data": {
            "text/plain": [
              "0.695906432748538"
            ]
          },
          "metadata": {
            "tags": []
          },
          "execution_count": 19
        }
      ]
    },
    {
      "cell_type": "markdown",
      "metadata": {
        "id": "k5H9717yX-Yz"
      },
      "source": [
        "### データの前処理\r\n",
        "\r\n",
        "標準化：z-score normalization\r\n",
        "\r\n",
        "$$\r\n",
        "\\tilde{x} = \\dfrac{x - \\bar{x}}{\\sigma}\r\n",
        "$$\r\n",
        "\r\n",
        "ここで，$\\bar{x}$は平均，$\\sigma$は標準偏差です。"
      ]
    },
    {
      "cell_type": "code",
      "metadata": {
        "id": "l0yaAMNYX-KC"
      },
      "source": [
        "from sklearn.preprocessing import StandardScaler"
      ],
      "execution_count": null,
      "outputs": []
    },
    {
      "cell_type": "code",
      "metadata": {
        "colab": {
          "base_uri": "https://localhost:8080/"
        },
        "id": "jQ4Qz1oqX4t9",
        "outputId": "466a714c-eeaf-43d9-ce7e-c94dbccb2aec"
      },
      "source": [
        "scaler = StandardScaler()\r\n",
        "scaler.fit(x_train)"
      ],
      "execution_count": null,
      "outputs": [
        {
          "output_type": "execute_result",
          "data": {
            "text/plain": [
              "StandardScaler(copy=True, with_mean=True, with_std=True)"
            ]
          },
          "metadata": {
            "tags": []
          },
          "execution_count": 22
        }
      ]
    },
    {
      "cell_type": "code",
      "metadata": {
        "colab": {
          "base_uri": "https://localhost:8080/"
        },
        "id": "fhIZrHjZYe4E",
        "outputId": "e0f1337d-331b-414d-a47e-0c4e219b917f"
      },
      "source": [
        "scaler.mean_"
      ],
      "execution_count": null,
      "outputs": [
        {
          "output_type": "execute_result",
          "data": {
            "text/plain": [
              "array([1.41855000e+01, 1.91928392e+01, 9.23355025e+01, 6.61859045e+02,\n",
              "       9.64749497e-02, 1.04080000e-01, 8.87943058e-02, 4.94785528e-02,\n",
              "       1.80698241e-01, 6.26464573e-02, 4.09096231e-01, 1.20445829e+00,\n",
              "       2.86661859e+00, 4.13843643e+01, 6.98354020e-03, 2.50993719e-02,\n",
              "       3.12257678e-02, 1.16784749e-02, 2.04023819e-02, 3.73508116e-03,\n",
              "       1.63596206e+01, 2.55345226e+01, 1.07736030e+02, 8.94246985e+02,\n",
              "       1.32529045e-01, 2.53368894e-01, 2.68530796e-01, 1.15221410e-01,\n",
              "       2.89186935e-01, 8.37181407e-02])"
            ]
          },
          "metadata": {
            "tags": []
          },
          "execution_count": 23
        }
      ]
    },
    {
      "cell_type": "code",
      "metadata": {
        "colab": {
          "base_uri": "https://localhost:8080/"
        },
        "id": "1UJUavlSYmZT",
        "outputId": "7b71402c-bb8b-487f-b86f-3b676cc45f9b"
      },
      "source": [
        "scaler.var_"
      ],
      "execution_count": null,
      "outputs": [
        {
          "output_type": "execute_result",
          "data": {
            "text/plain": [
              "array([1.29175157e+01, 1.75159661e+01, 6.11978383e+02, 1.34027359e+05,\n",
              "       1.93172478e-04, 2.59765595e-03, 6.09266864e-03, 1.53406406e-03,\n",
              "       7.85206454e-04, 4.69575214e-05, 8.61981370e-02, 3.03909148e-01,\n",
              "       4.44058298e+00, 2.47685722e+03, 8.16640844e-06, 2.82690187e-04,\n",
              "       8.14560621e-04, 3.42804953e-05, 6.67639347e-05, 6.93955438e-06,\n",
              "       2.45909719e+01, 3.76963891e+01, 1.18455243e+03, 3.56531201e+05,\n",
              "       5.27186175e-04, 2.35498499e-02, 3.72515370e-02, 4.30408790e-03,\n",
              "       4.01445370e-03, 3.21651393e-04])"
            ]
          },
          "metadata": {
            "tags": []
          },
          "execution_count": 24
        }
      ]
    },
    {
      "cell_type": "code",
      "metadata": {
        "id": "emHxhgBrYp1i"
      },
      "source": [
        "# z-score normalization\r\n",
        "x_train_norm = scaler.transform(x_train)\r\n",
        "x_test_norm = scaler.transform(x_test)"
      ],
      "execution_count": null,
      "outputs": []
    },
    {
      "cell_type": "code",
      "metadata": {
        "colab": {
          "base_uri": "https://localhost:8080/"
        },
        "id": "nh3SDBqHY8ed",
        "outputId": "145ca118-5b75-40ed-aec8-ec2feba29711"
      },
      "source": [
        "x_train_norm.mean(axis=0)"
      ],
      "execution_count": null,
      "outputs": [
        {
          "output_type": "execute_result",
          "data": {
            "text/plain": [
              "array([-2.26033597e-15, -1.38917353e-16,  2.35657390e-15, -6.37680863e-16,\n",
              "       -1.38219977e-15,  1.27393210e-16,  1.33129130e-15,  5.70035365e-16,\n",
              "       -3.81436926e-15, -1.68081629e-15, -2.55239715e-16,  2.64445082e-16,\n",
              "       -4.59989389e-16,  2.78950509e-17,  2.15684533e-15,  5.95140910e-16,\n",
              "        4.56641983e-16,  3.30416878e-16, -1.38917353e-16,  1.17466059e-15,\n",
              "        1.02346942e-15, -6.34333457e-16, -1.92699011e-15, -1.60675493e-16,\n",
              "        3.58311928e-15, -8.60614623e-16, -2.94571737e-16, -6.33217655e-17,\n",
              "       -5.45069294e-16,  3.86883434e-15])"
            ]
          },
          "metadata": {
            "tags": []
          },
          "execution_count": 27
        }
      ]
    },
    {
      "cell_type": "code",
      "metadata": {
        "colab": {
          "base_uri": "https://localhost:8080/"
        },
        "id": "NHLxCuyjY_EE",
        "outputId": "4446d8c4-f61e-4e32-88cf-fb327ba40293"
      },
      "source": [
        "x_train_norm.std(axis=0)"
      ],
      "execution_count": null,
      "outputs": [
        {
          "output_type": "execute_result",
          "data": {
            "text/plain": [
              "array([1., 1., 1., 1., 1., 1., 1., 1., 1., 1., 1., 1., 1., 1., 1., 1., 1.,\n",
              "       1., 1., 1., 1., 1., 1., 1., 1., 1., 1., 1., 1., 1.])"
            ]
          },
          "metadata": {
            "tags": []
          },
          "execution_count": 28
        }
      ]
    },
    {
      "cell_type": "code",
      "metadata": {
        "colab": {
          "base_uri": "https://localhost:8080/"
        },
        "id": "rOmSznH9ZLbk",
        "outputId": "dca4612e-da43-4bbb-8c81-c94772a64b54"
      },
      "source": [
        "# 前処理後のデータで訓練\r\n",
        "clf = SGDClassifier(loss='log', random_state=0)\r\n",
        "clf.fit(x_train_norm,t_train)"
      ],
      "execution_count": null,
      "outputs": [
        {
          "output_type": "execute_result",
          "data": {
            "text/plain": [
              "SGDClassifier(alpha=0.0001, average=False, class_weight=None,\n",
              "              early_stopping=False, epsilon=0.1, eta0=0.0, fit_intercept=True,\n",
              "              l1_ratio=0.15, learning_rate='optimal', loss='log', max_iter=1000,\n",
              "              n_iter_no_change=5, n_jobs=None, penalty='l2', power_t=0.5,\n",
              "              random_state=0, shuffle=True, tol=0.001, validation_fraction=0.1,\n",
              "              verbose=0, warm_start=False)"
            ]
          },
          "metadata": {
            "tags": []
          },
          "execution_count": 29
        }
      ]
    },
    {
      "cell_type": "code",
      "metadata": {
        "colab": {
          "base_uri": "https://localhost:8080/"
        },
        "id": "Vq2PhOsdZWii",
        "outputId": "477e1aad-5e7c-4c22-8871-df9fb28f6a34"
      },
      "source": [
        "# 訓練データに対して正解率(accuracy) を確認\r\n",
        "clf.score(x_train_norm,t_train)"
      ],
      "execution_count": null,
      "outputs": [
        {
          "output_type": "execute_result",
          "data": {
            "text/plain": [
              "0.9698492462311558"
            ]
          },
          "metadata": {
            "tags": []
          },
          "execution_count": 31
        }
      ]
    },
    {
      "cell_type": "code",
      "metadata": {
        "colab": {
          "base_uri": "https://localhost:8080/"
        },
        "id": "h5oyLVPZZecK",
        "outputId": "6b75ddc3-74db-47c7-ab3c-a9c5312b168b"
      },
      "source": [
        "# テストデータに対して正解率 (accuracy) を確認\r\n",
        "clf.score(x_test_norm,t_test)"
      ],
      "execution_count": null,
      "outputs": [
        {
          "output_type": "execute_result",
          "data": {
            "text/plain": [
              "0.9590643274853801"
            ]
          },
          "metadata": {
            "tags": []
          },
          "execution_count": 32
        }
      ]
    },
    {
      "cell_type": "markdown",
      "metadata": {
        "id": "8uCJKiJDZr6L"
      },
      "source": [
        "### ハイパーパラメーターの最適化\r\n",
        "学習係数 (learning rate)"
      ]
    },
    {
      "cell_type": "code",
      "metadata": {
        "id": "52ZiASsNZrpo"
      },
      "source": [
        "# GridSearchCV\r\n",
        "from sklearn.model_selection import GridSearchCV"
      ],
      "execution_count": null,
      "outputs": []
    },
    {
      "cell_type": "code",
      "metadata": {
        "id": "vHmG397SZqhf"
      },
      "source": [
        "# 探索するハイパーパラメータの範囲を定義\r\n",
        "param_grid = [{\r\n",
        "    'loss' : ['log'],\r\n",
        "    'learning_rate':['constant'],\r\n",
        "    'eta0':[1e-5,1e-4,1e-3,1e-2,1e-1],\r\n",
        "    'random_state':[0]\r\n",
        "}]"
      ],
      "execution_count": null,
      "outputs": []
    },
    {
      "cell_type": "code",
      "metadata": {
        "colab": {
          "base_uri": "https://localhost:8080/"
        },
        "id": "JWWfg8oEaY4z",
        "outputId": "c5739726-1a38-4e03-f3cf-6d12b1ca148e"
      },
      "source": [
        "clf_cv = GridSearchCV(estimator=SGDClassifier(), param_grid=param_grid, cv=5, scoring='accuracy')\r\n",
        "clf_cv"
      ],
      "execution_count": null,
      "outputs": [
        {
          "output_type": "execute_result",
          "data": {
            "text/plain": [
              "GridSearchCV(cv=5, error_score=nan,\n",
              "             estimator=SGDClassifier(alpha=0.0001, average=False,\n",
              "                                     class_weight=None, early_stopping=False,\n",
              "                                     epsilon=0.1, eta0=0.0, fit_intercept=True,\n",
              "                                     l1_ratio=0.15, learning_rate='optimal',\n",
              "                                     loss='hinge', max_iter=1000,\n",
              "                                     n_iter_no_change=5, n_jobs=None,\n",
              "                                     penalty='l2', power_t=0.5,\n",
              "                                     random_state=None, shuffle=True, tol=0.001,\n",
              "                                     validation_fraction=0.1, verbose=0,\n",
              "                                     warm_start=False),\n",
              "             iid='deprecated', n_jobs=None,\n",
              "             param_grid=[{'eta0': [1e-05, 0.0001, 0.001, 0.01, 0.1],\n",
              "                          'learning_rate': ['constant'], 'loss': ['log'],\n",
              "                          'random_state': [0]}],\n",
              "             pre_dispatch='2*n_jobs', refit=True, return_train_score=False,\n",
              "             scoring='accuracy', verbose=0)"
            ]
          },
          "metadata": {
            "tags": []
          },
          "execution_count": 36
        }
      ]
    },
    {
      "cell_type": "code",
      "metadata": {
        "colab": {
          "base_uri": "https://localhost:8080/"
        },
        "id": "yAFVslgJalFZ",
        "outputId": "9068287d-8995-4ba5-8281-d6520bd4a336"
      },
      "source": [
        "# 定義したハイパーパラメータの組み合わせでモデルの訓練\r\n",
        "clf_cv.fit(x_train_norm,t_train)"
      ],
      "execution_count": null,
      "outputs": [
        {
          "output_type": "execute_result",
          "data": {
            "text/plain": [
              "GridSearchCV(cv=5, error_score=nan,\n",
              "             estimator=SGDClassifier(alpha=0.0001, average=False,\n",
              "                                     class_weight=None, early_stopping=False,\n",
              "                                     epsilon=0.1, eta0=0.0, fit_intercept=True,\n",
              "                                     l1_ratio=0.15, learning_rate='optimal',\n",
              "                                     loss='hinge', max_iter=1000,\n",
              "                                     n_iter_no_change=5, n_jobs=None,\n",
              "                                     penalty='l2', power_t=0.5,\n",
              "                                     random_state=None, shuffle=True, tol=0.001,\n",
              "                                     validation_fraction=0.1, verbose=0,\n",
              "                                     warm_start=False),\n",
              "             iid='deprecated', n_jobs=None,\n",
              "             param_grid=[{'eta0': [1e-05, 0.0001, 0.001, 0.01, 0.1],\n",
              "                          'learning_rate': ['constant'], 'loss': ['log'],\n",
              "                          'random_state': [0]}],\n",
              "             pre_dispatch='2*n_jobs', refit=True, return_train_score=False,\n",
              "             scoring='accuracy', verbose=0)"
            ]
          },
          "metadata": {
            "tags": []
          },
          "execution_count": 37
        }
      ]
    },
    {
      "cell_type": "code",
      "metadata": {
        "colab": {
          "base_uri": "https://localhost:8080/"
        },
        "id": "vgNer2E5avCM",
        "outputId": "a1c4021c-c68f-4fd0-87b5-e8fd454e08a9"
      },
      "source": [
        "# 候補の中で最も正解率が高かった値\r\n",
        "clf_cv.best_score_"
      ],
      "execution_count": null,
      "outputs": [
        {
          "output_type": "execute_result",
          "data": {
            "text/plain": [
              "0.9799367088607596"
            ]
          },
          "metadata": {
            "tags": []
          },
          "execution_count": 38
        }
      ]
    },
    {
      "cell_type": "code",
      "metadata": {
        "colab": {
          "base_uri": "https://localhost:8080/"
        },
        "id": "w4QjMuaPa3VX",
        "outputId": "8d2f45cb-d9ee-4a1b-e825-0498d4ae502f"
      },
      "source": [
        "# 正解率が最も高かったハイパーパラメーターの組合せ\r\n",
        "clf_cv.best_params_"
      ],
      "execution_count": null,
      "outputs": [
        {
          "output_type": "execute_result",
          "data": {
            "text/plain": [
              "{'eta0': 0.01, 'learning_rate': 'constant', 'loss': 'log', 'random_state': 0}"
            ]
          },
          "metadata": {
            "tags": []
          },
          "execution_count": 39
        }
      ]
    },
    {
      "cell_type": "code",
      "metadata": {
        "colab": {
          "base_uri": "https://localhost:8080/"
        },
        "id": "f_ULyjc7bCLz",
        "outputId": "9b04f469-829b-469a-f0a1-a61fc00b5ae6"
      },
      "source": [
        "# 最も正解率が高かった訓練済みモデルを抽出\r\n",
        "clf_best = clf_cv.best_estimator_\r\n",
        "clf_best"
      ],
      "execution_count": null,
      "outputs": [
        {
          "output_type": "execute_result",
          "data": {
            "text/plain": [
              "SGDClassifier(alpha=0.0001, average=False, class_weight=None,\n",
              "              early_stopping=False, epsilon=0.1, eta0=0.01, fit_intercept=True,\n",
              "              l1_ratio=0.15, learning_rate='constant', loss='log',\n",
              "              max_iter=1000, n_iter_no_change=5, n_jobs=None, penalty='l2',\n",
              "              power_t=0.5, random_state=0, shuffle=True, tol=0.001,\n",
              "              validation_fraction=0.1, verbose=0, warm_start=False)"
            ]
          },
          "metadata": {
            "tags": []
          },
          "execution_count": 40
        }
      ]
    },
    {
      "cell_type": "code",
      "metadata": {
        "colab": {
          "base_uri": "https://localhost:8080/"
        },
        "id": "cGFJmDL4bMkA",
        "outputId": "d1c6b2a3-df08-45f1-aaa8-165edb265f89"
      },
      "source": [
        "# 訓練データに対する正解率\r\n",
        "clf_best.score(x_train_norm,t_train)"
      ],
      "execution_count": null,
      "outputs": [
        {
          "output_type": "execute_result",
          "data": {
            "text/plain": [
              "0.9874371859296482"
            ]
          },
          "metadata": {
            "tags": []
          },
          "execution_count": 41
        }
      ]
    },
    {
      "cell_type": "code",
      "metadata": {
        "colab": {
          "base_uri": "https://localhost:8080/"
        },
        "id": "leOxH9JJbSWv",
        "outputId": "a6cbac8d-c80e-4ae9-ed61-67636f95306b"
      },
      "source": [
        "# テストデータに対する正解率\r\n",
        "clf_best.score(x_test_norm,t_test)"
      ],
      "execution_count": null,
      "outputs": [
        {
          "output_type": "execute_result",
          "data": {
            "text/plain": [
              "0.9766081871345029"
            ]
          },
          "metadata": {
            "tags": []
          },
          "execution_count": 42
        }
      ]
    },
    {
      "cell_type": "markdown",
      "metadata": {
        "id": "K-n8SwhBbbxo"
      },
      "source": [
        "### 評価指標\r\n",
        "\r\n",
        "- 正解率 (accuracy)\r\n",
        "- precision\r\n",
        "- Recall\r\n",
        "- …"
      ]
    },
    {
      "cell_type": "code",
      "metadata": {
        "id": "CjWscCtsbYU8"
      },
      "source": [
        "from sklearn.metrics import  confusion_matrix"
      ],
      "execution_count": null,
      "outputs": []
    },
    {
      "cell_type": "code",
      "metadata": {
        "colab": {
          "base_uri": "https://localhost:8080/"
        },
        "id": "h3PuyXkibuR5",
        "outputId": "e0eb7c2d-b441-4388-ad4b-c698d4dab846"
      },
      "source": [
        "# 混同行列\r\n",
        "y_test = clf_best.predict(x_test_norm)\r\n",
        "y_test"
      ],
      "execution_count": null,
      "outputs": [
        {
          "output_type": "execute_result",
          "data": {
            "text/plain": [
              "array([0, 1, 1, 1, 1, 1, 1, 1, 1, 1, 1, 1, 1, 1, 1, 0, 1, 0, 0, 0, 0, 0,\n",
              "       1, 1, 0, 1, 1, 0, 1, 0, 1, 0, 1, 0, 1, 0, 1, 0, 1, 0, 0, 1, 0, 1,\n",
              "       1, 0, 1, 1, 1, 0, 0, 0, 0, 1, 1, 1, 1, 1, 1, 0, 0, 0, 1, 1, 0, 1,\n",
              "       0, 0, 0, 1, 1, 0, 1, 0, 0, 1, 1, 1, 1, 1, 0, 0, 0, 1, 0, 1, 1, 1,\n",
              "       0, 0, 1, 1, 0, 0, 1, 1, 0, 1, 1, 1, 1, 1, 1, 1, 0, 1, 0, 1, 1, 1,\n",
              "       1, 0, 0, 1, 1, 1, 1, 1, 1, 1, 1, 1, 0, 1, 0, 1, 1, 1, 1, 1, 0, 1,\n",
              "       1, 1, 1, 1, 1, 0, 0, 1, 1, 1, 0, 1, 1, 0, 1, 0, 1, 1, 1, 1, 1, 1,\n",
              "       1, 0, 1, 0, 1, 0, 0, 1, 1, 0, 1, 0, 0, 0, 1, 1, 1])"
            ]
          },
          "metadata": {
            "tags": []
          },
          "execution_count": 44
        }
      ]
    },
    {
      "cell_type": "code",
      "metadata": {
        "colab": {
          "base_uri": "https://localhost:8080/"
        },
        "id": "-3sa-fpGb2w5",
        "outputId": "a7554df5-a519-48e2-c2da-18ebac2e7734"
      },
      "source": [
        "# 混同行列の算出\r\n",
        "cmat = confusion_matrix(t_test,y_test)\r\n",
        "cmat"
      ],
      "execution_count": null,
      "outputs": [
        {
          "output_type": "execute_result",
          "data": {
            "text/plain": [
              "array([[ 60,   3],\n",
              "       [  1, 107]])"
            ]
          },
          "metadata": {
            "tags": []
          },
          "execution_count": 45
        }
      ]
    },
    {
      "cell_type": "code",
      "metadata": {
        "id": "swH2D4-zb-Vc"
      },
      "source": [
        "import seaborn as sns"
      ],
      "execution_count": null,
      "outputs": []
    },
    {
      "cell_type": "code",
      "metadata": {
        "colab": {
          "base_uri": "https://localhost:8080/",
          "height": 282
        },
        "id": "IbNrVuGhcCib",
        "outputId": "04516dd2-abc0-4e47-c512-4f1ae8f22ed9"
      },
      "source": [
        "sns.heatmap(cmat,annot=True,fmt='',cmap='Blues')"
      ],
      "execution_count": null,
      "outputs": [
        {
          "output_type": "execute_result",
          "data": {
            "text/plain": [
              "<matplotlib.axes._subplots.AxesSubplot at 0x7fec0220f0b8>"
            ]
          },
          "metadata": {
            "tags": []
          },
          "execution_count": 47
        },
        {
          "output_type": "display_data",
          "data": {
            "image/png": "[encoded data removed]",
            "text/plain": [
              "<Figure size 432x288 with 2 Axes>"
            ]
          },
          "metadata": {
            "tags": [],
            "needs_background": "light"
          }
        }
      ]
    },
    {
      "cell_type": "code",
      "metadata": {
        "id": "I894nuVocNk2"
      },
      "source": [
        "import numpy as np"
      ],
      "execution_count": null,
      "outputs": []
    },
    {
      "cell_type": "code",
      "metadata": {
        "colab": {
          "base_uri": "https://localhost:8080/",
          "height": 282
        },
        "id": "Z4VB7CPbcToq",
        "outputId": "8b6e8d8e-50e8-4523-a908-417539c4fdb0"
      },
      "source": [
        "labels = ['True Positive', 'False Negative','False Positive', 'True Negative']\r\n",
        "labels = np.asarray(labels).reshape(2,2)\r\n",
        "sns.heatmap(cmat,annot=labels,fmt='',cmap='Blues')"
      ],
      "execution_count": null,
      "outputs": [
        {
          "output_type": "execute_result",
          "data": {
            "text/plain": [
              "<matplotlib.axes._subplots.AxesSubplot at 0x7febf9544b38>"
            ]
          },
          "metadata": {
            "tags": []
          },
          "execution_count": 50
        },
        {
          "output_type": "display_data",
          "data": {
            "image/png": "[encoded data removed]",
            "text/plain": [
              "<Figure size 432x288 with 2 Axes>"
            ]
          },
          "metadata": {
            "tags": [],
            "needs_background": "light"
          }
        }
      ]
    },
    {
      "cell_type": "code",
      "metadata": {
        "id": "1hyNLaHHcmg0"
      },
      "source": [
        ""
      ],
      "execution_count": null,
      "outputs": []
    }
  ]
}
